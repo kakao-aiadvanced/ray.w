{
 "cells": [
  {
   "cell_type": "code",
   "id": "initial_id",
   "metadata": {
    "collapsed": true,
    "ExecuteTime": {
     "end_time": "2024-07-30T07:59:43.291317Z",
     "start_time": "2024-07-30T07:59:31.682804Z"
    }
   },
   "source": [
    "import getpass\n",
    "import os\n",
    "\n",
    "os.environ[\"OPENAI_API_KEY\"] = getpass.getpass()"
   ],
   "outputs": [],
   "execution_count": 1
  },
  {
   "metadata": {
    "ExecuteTime": {
     "end_time": "2024-07-30T08:07:46.533318Z",
     "start_time": "2024-07-30T08:07:46.530586Z"
    }
   },
   "cell_type": "code",
   "source": [
    "from langchain_openai import ChatOpenAI\n",
    "from langchain import hub\n",
    "import bs4\n",
    "from langchain_chroma import Chroma\n",
    "from langchain_community.document_loaders import WebBaseLoader\n",
    "from langchain_core.output_parsers import StrOutputParser\n",
    "from langchain_core.runnables import RunnablePassthrough\n",
    "from langchain_openai import OpenAIEmbeddings\n",
    "from langchain_text_splitters import RecursiveCharacterTextSplitter\n",
    "from langchain_chroma import Chroma\n",
    "from langchain_community.embeddings.sentence_transformer import (\n",
    "    SentenceTransformerEmbeddings,\n",
    ")"
   ],
   "id": "43ec1555e24a0558",
   "outputs": [],
   "execution_count": 14
  },
  {
   "metadata": {
    "ExecuteTime": {
     "end_time": "2024-07-30T08:07:48.621416Z",
     "start_time": "2024-07-30T08:07:47.879506Z"
    }
   },
   "cell_type": "code",
   "source": [
    "llm = ChatOpenAI(model=\"gpt-4o-mini\")\n",
    "reg_prompt = hub.pull(\"rlm/rag-prompt\")"
   ],
   "id": "2e504dba01af1422",
   "outputs": [],
   "execution_count": 15
  },
  {
   "metadata": {
    "ExecuteTime": {
     "end_time": "2024-07-30T08:25:16.678960Z",
     "start_time": "2024-07-30T08:25:13.055911Z"
    }
   },
   "cell_type": "code",
   "source": [
    "loader = WebBaseLoader(\n",
    "    web_path=\"https://applied-llms.org/\",\n",
    "    bs_kwargs=dict(\n",
    "        parse_only=bs4.SoupStrainer(\n",
    "            class_=(\"content\")\n",
    "        )\n",
    "    ),\n",
    ")\n",
    "\n",
    "docs = loader.load()\n",
    "splitter = RecursiveCharacterTextSplitter(chunk_size=1000, chunk_overlap=200)\n",
    "splits = splitter.split_documents(docs)\n",
    "\n",
    "embedding_function = SentenceTransformerEmbeddings(model_name=\"all-MiniLM-L6-v2\")\n",
    "#embedding = OpenAIEmbeddings(model=\"text-embedding-3-small\")\n",
    "vectorstore = Chroma.from_documents(splits, embedding_function)\n"
   ],
   "id": "763a7c838bdf40b5",
   "outputs": [
    {
     "name": "stderr",
     "output_type": "stream",
     "text": [
      "/Users/ray/.pyenv/versions/3.10.0/lib/python3.10/site-packages/huggingface_hub/file_download.py:1150: FutureWarning: `resume_download` is deprecated and will be removed in version 1.0.0. Downloads always resume when possible. If you want to force a new download, use `force_download=True`.\n",
      "  warnings.warn(\n"
     ]
    }
   ],
   "execution_count": 44
  },
  {
   "metadata": {
    "ExecuteTime": {
     "end_time": "2024-07-30T08:08:04.273524Z",
     "start_time": "2024-07-30T08:08:04.269343Z"
    }
   },
   "cell_type": "code",
   "source": "vectorstore",
   "id": "a71730053f9d61ae",
   "outputs": [
    {
     "data": {
      "text/plain": [
       "<langchain_chroma.vectorstores.Chroma at 0x33cf93250>"
      ]
     },
     "execution_count": 17,
     "metadata": {},
     "output_type": "execute_result"
    }
   ],
   "execution_count": 17
  },
  {
   "metadata": {
    "ExecuteTime": {
     "end_time": "2024-07-30T08:29:50.108634Z",
     "start_time": "2024-07-30T08:29:50.052831Z"
    }
   },
   "cell_type": "code",
   "source": [
    "def check_rag_relevance(question):\n",
    "    return vectorstore.similarity_search_with_score(question)\n",
    "    \n",
    "question = \"What is weather today?\"\n",
    "#question = \"What are author's thoughts of main concept of RAG?\"\n",
    "#doc_results = check_rag_relevance(\"RAG 에 대한 저자의 생각은 무엇인가?\")\n",
    "doc_results = check_rag_relevance(\"오늘 날씨는 어때?\")\n",
    "[d[1] for d in vectorstore.similarity_search_with_score(question, k=5 )]"
   ],
   "id": "18d752a6071d3a1",
   "outputs": [
    {
     "data": {
      "text/plain": [
       "[1.763567328453064,\n",
       " 1.763567328453064,\n",
       " 1.7873482704162598,\n",
       " 1.7873482704162598,\n",
       " 1.7903554439544678]"
      ]
     },
     "execution_count": 52,
     "metadata": {},
     "output_type": "execute_result"
    }
   ],
   "execution_count": 52
  },
  {
   "metadata": {},
   "cell_type": "code",
   "outputs": [],
   "execution_count": null,
   "source": "",
   "id": "54faafbed479889d"
  }
 ],
 "metadata": {
  "kernelspec": {
   "display_name": "Python 3",
   "language": "python",
   "name": "python3"
  },
  "language_info": {
   "codemirror_mode": {
    "name": "ipython",
    "version": 2
   },
   "file_extension": ".py",
   "mimetype": "text/x-python",
   "name": "python",
   "nbconvert_exporter": "python",
   "pygments_lexer": "ipython2",
   "version": "2.7.6"
  }
 },
 "nbformat": 4,
 "nbformat_minor": 5
}
