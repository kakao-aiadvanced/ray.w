{
 "cells": [
  {
   "cell_type": "code",
   "id": "initial_id",
   "metadata": {
    "collapsed": true,
    "ExecuteTime": {
     "end_time": "2024-07-29T09:12:04.559881Z",
     "start_time": "2024-07-29T09:11:46.194912Z"
    }
   },
   "source": [
    "from getpass import getpass\n",
    "import os\n",
    "\n",
    "api_key = getpass(\"API Key : \")\n",
    "os.environ['OPENAI_API_KEY'] = f\"{api_key}\"\n",
    "\n",
    "from openai import OpenAI\n",
    "\n",
    "client = OpenAI()\n",
    "\n",
    "def query_openai(system_prompt, message):\n",
    "    messages = []\n",
    "    if system_prompt:\n",
    "        messages.append({\n",
    "            \"role\": \"system\",\n",
    "            \"content\": system_prompt,\n",
    "        })\n",
    "    messages.append({\n",
    "        \"role\": \"user\",\n",
    "        \"content\": message,\n",
    "    })\n",
    "    completion = client.chat.completions.create(\n",
    "        model=\"gpt-4o-mini\",\n",
    "        messages=messages\n",
    "    )\n",
    "    output = completion.choices[0].message\n",
    "    return output.content\n",
    "\n",
    "import requests\n",
    "import json\n",
    "\n",
    "def query_llama(system_prompt, message):\n",
    "    messages = []\n",
    "    if system_prompt:\n",
    "        messages.append({\n",
    "            \"role\": \"system\",\n",
    "            \"content\": system_prompt,\n",
    "        })\n",
    "    messages.append({\n",
    "        \"role\": \"user\",\n",
    "        \"content\": message,\n",
    "    })\n",
    "    url = \"http://localhost:11434/api/chat\"\n",
    "    data = {\n",
    "        \"model\": \"llama3.1\",\n",
    "        \"stream\": False,\n",
    "        \"messages\": messages\n",
    "    }\n",
    "    response = requests.post(url, data=json.dumps(data))\n",
    "    return response.json()[\"message\"][\"content\"]"
   ],
   "outputs": [],
   "execution_count": 1
  },
  {
   "metadata": {
    "ExecuteTime": {
     "end_time": "2024-07-29T09:13:22.874506Z",
     "start_time": "2024-07-29T09:12:44.275871Z"
    }
   },
   "cell_type": "code",
   "source": "!pip install promptbench",
   "id": "bc7a21f248dfceb8",
   "outputs": [
    {
     "name": "stdout",
     "output_type": "stream",
     "text": [
      "Collecting promptbench\r\n",
      "  Downloading promptbench-0.0.3-py3-none-any.whl (129 kB)\r\n",
      "\u001B[K     |████████████████████████████████| 129 kB 2.3 MB/s eta 0:00:01\r\n",
      "\u001B[?25hCollecting transformers-stream-generator==0.0.5\r\n",
      "  Downloading transformers-stream-generator-0.0.5.tar.gz (13 kB)\r\n",
      "Collecting tokenizers==0.15.0\r\n",
      "  Downloading tokenizers-0.15.0-cp310-cp310-macosx_11_0_arm64.whl (2.5 MB)\r\n",
      "\u001B[K     |████████████████████████████████| 2.5 MB 8.0 MB/s eta 0:00:01\r\n",
      "\u001B[?25hCollecting sentencepiece==0.1.99\r\n",
      "  Downloading sentencepiece-0.1.99-cp310-cp310-macosx_11_0_arm64.whl (1.2 MB)\r\n",
      "\u001B[K     |████████████████████████████████| 1.2 MB 48.8 MB/s eta 0:00:01\r\n",
      "\u001B[?25hCollecting nltk==3.8.1\r\n",
      "  Downloading nltk-3.8.1-py3-none-any.whl (1.5 MB)\r\n",
      "\u001B[K     |████████████████████████████████| 1.5 MB 173.0 MB/s eta 0:00:01\r\n",
      "\u001B[?25hCollecting datasets>=2.15.0\r\n",
      "  Downloading datasets-2.20.0-py3-none-any.whl (547 kB)\r\n",
      "\u001B[K     |████████████████████████████████| 547 kB 96.9 MB/s eta 0:00:01\r\n",
      "\u001B[?25hCollecting torch==2.1.1\r\n",
      "  Downloading torch-2.1.1-cp310-none-macosx_11_0_arm64.whl (59.6 MB)\r\n",
      "\u001B[K     |████████████████████████████████| 59.6 MB 13.8 MB/s eta 0:00:011     |████████████████████████████▏   | 52.3 MB 2.3 MB/s eta 0:00:04\r\n",
      "\u001B[?25hCollecting einops==0.7.0\r\n",
      "  Downloading einops-0.7.0-py3-none-any.whl (44 kB)\r\n",
      "\u001B[K     |████████████████████████████████| 44 kB 14.6 MB/s eta 0:00:01\r\n",
      "\u001B[?25hCollecting torchvision==0.16.1\r\n",
      "  Downloading torchvision-0.16.1-cp310-cp310-macosx_11_0_arm64.whl (1.5 MB)\r\n",
      "\u001B[K     |████████████████████████████████| 1.5 MB 157.0 MB/s eta 0:00:01\r\n",
      "\u001B[?25hCollecting tiktoken==0.6.0\r\n",
      "  Downloading tiktoken-0.6.0-cp310-cp310-macosx_11_0_arm64.whl (949 kB)\r\n",
      "\u001B[K     |████████████████████████████████| 949 kB 33.9 MB/s eta 0:00:01\r\n",
      "\u001B[?25hCollecting tqdm==4.66.1\r\n",
      "  Downloading tqdm-4.66.1-py3-none-any.whl (78 kB)\r\n",
      "\u001B[K     |████████████████████████████████| 78 kB 22.1 MB/s eta 0:00:011\r\n",
      "\u001B[?25hCollecting google-generativeai==0.4.0\r\n",
      "  Downloading google_generativeai-0.4.0-py3-none-any.whl (137 kB)\r\n",
      "\u001B[K     |████████████████████████████████| 137 kB 89.8 MB/s eta 0:00:01\r\n",
      "\u001B[?25hCollecting accelerate==0.25.0\r\n",
      "  Downloading accelerate-0.25.0-py3-none-any.whl (265 kB)\r\n",
      "\u001B[K     |████████████████████████████████| 265 kB 45.8 MB/s eta 0:00:01\r\n",
      "\u001B[?25hCollecting transformers==4.38.0\r\n",
      "  Downloading transformers-4.38.0-py3-none-any.whl (8.5 MB)\r\n",
      "\u001B[K     |████████████████████████████████| 8.5 MB 30.9 MB/s eta 0:00:01\r\n",
      "\u001B[?25hRequirement already satisfied: Pillow==10.3.0 in /Users/ray/.pyenv/versions/3.10.0/lib/python3.10/site-packages (from promptbench) (10.3.0)\r\n",
      "Collecting matplotlib==3.8.3\r\n",
      "  Downloading matplotlib-3.8.3-cp310-cp310-macosx_11_0_arm64.whl (7.5 MB)\r\n",
      "\u001B[K     |████████████████████████████████| 7.5 MB 37.9 MB/s eta 0:00:01\r\n",
      "\u001B[?25hCollecting openai==1.3.7\r\n",
      "  Downloading openai-1.3.7-py3-none-any.whl (221 kB)\r\n",
      "\u001B[K     |████████████████████████████████| 221 kB 50.0 MB/s eta 0:00:01\r\n",
      "\u001B[?25hCollecting autocorrect==2.6.1\r\n",
      "  Downloading autocorrect-2.6.1.tar.gz (622 kB)\r\n",
      "\u001B[K     |████████████████████████████████| 622 kB 29.4 MB/s eta 0:00:01\r\n",
      "\u001B[?25hCollecting dashscope==1.14.1\r\n",
      "  Downloading dashscope-1.14.1-py3-none-any.whl (1.2 MB)\r\n",
      "\u001B[K     |████████████████████████████████| 1.2 MB 175.4 MB/s eta 0:00:01\r\n",
      "\u001B[?25hRequirement already satisfied: pyyaml in /Users/ray/.pyenv/versions/3.10.0/lib/python3.10/site-packages (from accelerate==0.25.0->promptbench) (6.0.1)\r\n",
      "Requirement already satisfied: numpy>=1.17 in /Users/ray/.pyenv/versions/3.10.0/lib/python3.10/site-packages (from accelerate==0.25.0->promptbench) (1.26.4)\r\n",
      "Collecting safetensors>=0.3.1\r\n",
      "  Using cached safetensors-0.4.3-cp310-cp310-macosx_11_0_arm64.whl (410 kB)\r\n",
      "Collecting huggingface-hub\r\n",
      "  Downloading huggingface_hub-0.24.2-py3-none-any.whl (417 kB)\r\n",
      "\u001B[K     |████████████████████████████████| 417 kB 37.7 MB/s eta 0:00:01\r\n",
      "\u001B[?25hRequirement already satisfied: psutil in /Users/ray/.pyenv/versions/3.10.0/lib/python3.10/site-packages (from accelerate==0.25.0->promptbench) (5.9.8)\r\n",
      "Requirement already satisfied: packaging>=20.0 in /Users/ray/.pyenv/versions/3.10.0/lib/python3.10/site-packages (from accelerate==0.25.0->promptbench) (24.0)\r\n",
      "Requirement already satisfied: requests in /Users/ray/.pyenv/versions/3.10.0/lib/python3.10/site-packages (from dashscope==1.14.1->promptbench) (2.31.0)\r\n",
      "Collecting aiohttp\r\n",
      "  Using cached aiohttp-3.9.5-cp310-cp310-macosx_11_0_arm64.whl (389 kB)\r\n",
      "Collecting google-ai-generativelanguage==0.4.0\r\n",
      "  Downloading google_ai_generativelanguage-0.4.0-py3-none-any.whl (598 kB)\r\n",
      "\u001B[K     |████████████████████████████████| 598 kB 157.3 MB/s eta 0:00:01\r\n",
      "\u001B[?25hCollecting google-api-core\r\n",
      "  Downloading google_api_core-2.19.1-py3-none-any.whl (139 kB)\r\n",
      "\u001B[K     |████████████████████████████████| 139 kB 178.9 MB/s eta 0:00:01\r\n",
      "\u001B[?25hRequirement already satisfied: pydantic in /Users/ray/.pyenv/versions/3.10.0/lib/python3.10/site-packages (from google-generativeai==0.4.0->promptbench) (2.8.2)\r\n",
      "Requirement already satisfied: protobuf in /Users/ray/.pyenv/versions/3.10.0/lib/python3.10/site-packages (from google-generativeai==0.4.0->promptbench) (4.25.3)\r\n",
      "Requirement already satisfied: typing-extensions in /Users/ray/.pyenv/versions/3.10.0/lib/python3.10/site-packages (from google-generativeai==0.4.0->promptbench) (4.11.0)\r\n",
      "Collecting google-auth>=2.15.0\r\n",
      "  Downloading google_auth-2.32.0-py2.py3-none-any.whl (195 kB)\r\n",
      "\u001B[K     |████████████████████████████████| 195 kB 173.6 MB/s eta 0:00:01\r\n",
      "\u001B[?25hCollecting proto-plus<2.0.0dev,>=1.22.3\r\n",
      "  Downloading proto_plus-1.24.0-py3-none-any.whl (50 kB)\r\n",
      "\u001B[K     |████████████████████████████████| 50 kB 14.1 MB/s eta 0:00:01\r\n",
      "\u001B[?25hRequirement already satisfied: contourpy>=1.0.1 in /Users/ray/.pyenv/versions/3.10.0/lib/python3.10/site-packages (from matplotlib==3.8.3->promptbench) (1.2.1)\r\n",
      "Requirement already satisfied: pyparsing>=2.3.1 in /Users/ray/.pyenv/versions/3.10.0/lib/python3.10/site-packages (from matplotlib==3.8.3->promptbench) (3.1.2)\r\n",
      "Requirement already satisfied: fonttools>=4.22.0 in /Users/ray/.pyenv/versions/3.10.0/lib/python3.10/site-packages (from matplotlib==3.8.3->promptbench) (4.51.0)\r\n",
      "Requirement already satisfied: python-dateutil>=2.7 in /Users/ray/.pyenv/versions/3.10.0/lib/python3.10/site-packages (from matplotlib==3.8.3->promptbench) (2.9.0.post0)\r\n",
      "Requirement already satisfied: kiwisolver>=1.3.1 in /Users/ray/.pyenv/versions/3.10.0/lib/python3.10/site-packages (from matplotlib==3.8.3->promptbench) (1.4.5)\r\n",
      "Requirement already satisfied: cycler>=0.10 in /Users/ray/.pyenv/versions/3.10.0/lib/python3.10/site-packages (from matplotlib==3.8.3->promptbench) (0.12.1)\r\n",
      "Collecting regex>=2021.8.3\r\n",
      "  Downloading regex-2024.7.24-cp310-cp310-macosx_11_0_arm64.whl (278 kB)\r\n",
      "\u001B[K     |████████████████████████████████| 278 kB 6.4 MB/s eta 0:00:011\r\n",
      "\u001B[?25hCollecting joblib\r\n",
      "  Using cached joblib-1.4.2-py3-none-any.whl (301 kB)\r\n",
      "Requirement already satisfied: click in /Users/ray/.pyenv/versions/3.10.0/lib/python3.10/site-packages (from nltk==3.8.1->promptbench) (8.1.7)\r\n",
      "Requirement already satisfied: sniffio in /Users/ray/.pyenv/versions/3.10.0/lib/python3.10/site-packages (from openai==1.3.7->promptbench) (1.3.1)\r\n",
      "Requirement already satisfied: distro<2,>=1.7.0 in /Users/ray/.pyenv/versions/3.10.0/lib/python3.10/site-packages (from openai==1.3.7->promptbench) (1.9.0)\r\n",
      "Requirement already satisfied: httpx<1,>=0.23.0 in /Users/ray/.pyenv/versions/3.10.0/lib/python3.10/site-packages (from openai==1.3.7->promptbench) (0.27.0)\r\n",
      "Collecting anyio<4,>=3.5.0\r\n",
      "  Downloading anyio-3.7.1-py3-none-any.whl (80 kB)\r\n",
      "\u001B[K     |████████████████████████████████| 80 kB 25.7 MB/s eta 0:00:011\r\n",
      "\u001B[?25hCollecting sympy\r\n",
      "  Downloading sympy-1.13.1-py3-none-any.whl (6.2 MB)\r\n",
      "\u001B[K     |████████████████████████████████| 6.2 MB 60.3 MB/s eta 0:00:01\r\n",
      "\u001B[?25hRequirement already satisfied: jinja2 in /Users/ray/.pyenv/versions/3.10.0/lib/python3.10/site-packages (from torch==2.1.1->promptbench) (3.1.3)\r\n",
      "Collecting fsspec\r\n",
      "  Downloading fsspec-2024.6.1-py3-none-any.whl (177 kB)\r\n",
      "\u001B[K     |████████████████████████████████| 177 kB 99.0 MB/s eta 0:00:01\r\n",
      "\u001B[?25hCollecting filelock\r\n",
      "  Using cached filelock-3.15.4-py3-none-any.whl (16 kB)\r\n",
      "Collecting networkx\r\n",
      "  Using cached networkx-3.3-py3-none-any.whl (1.7 MB)\r\n",
      "Requirement already satisfied: idna>=2.8 in /Users/ray/.pyenv/versions/3.10.0/lib/python3.10/site-packages (from anyio<4,>=3.5.0->openai==1.3.7->promptbench) (3.7)\r\n",
      "Requirement already satisfied: exceptiongroup in /Users/ray/.pyenv/versions/3.10.0/lib/python3.10/site-packages (from anyio<4,>=3.5.0->openai==1.3.7->promptbench) (1.2.1)\r\n",
      "Collecting dill<0.3.9,>=0.3.0\r\n",
      "  Using cached dill-0.3.8-py3-none-any.whl (116 kB)\r\n",
      "Collecting pyarrow>=15.0.0\r\n",
      "  Downloading pyarrow-17.0.0-cp310-cp310-macosx_11_0_arm64.whl (27.2 MB)\r\n",
      "\u001B[K     |████████████████████████████████| 27.2 MB 83.9 MB/s eta 0:00:01\r\n",
      "\u001B[?25hCollecting datasets>=2.15.0\r\n",
      "  Downloading datasets-2.19.2-py3-none-any.whl (542 kB)\r\n",
      "\u001B[K     |████████████████████████████████| 542 kB 40.5 MB/s eta 0:00:01\r\n",
      "\u001B[?25hCollecting fsspec[http]<=2024.3.1,>=2023.1.0\r\n",
      "  Using cached fsspec-2024.3.1-py3-none-any.whl (171 kB)\r\n",
      "Collecting xxhash\r\n",
      "  Using cached xxhash-3.4.1-cp310-cp310-macosx_11_0_arm64.whl (30 kB)\r\n",
      "Collecting multiprocess\r\n",
      "  Using cached multiprocess-0.70.16-py310-none-any.whl (134 kB)\r\n",
      "Collecting requests\r\n",
      "  Using cached requests-2.32.3-py3-none-any.whl (64 kB)\r\n",
      "Collecting pyarrow-hotfix\r\n",
      "  Using cached pyarrow_hotfix-0.6-py3-none-any.whl (7.9 kB)\r\n",
      "Requirement already satisfied: pandas in /Users/ray/.pyenv/versions/3.10.0/lib/python3.10/site-packages (from datasets>=2.15.0->promptbench) (2.2.2)\r\n",
      "Collecting aiosignal>=1.1.2\r\n",
      "  Using cached aiosignal-1.3.1-py3-none-any.whl (7.6 kB)\r\n",
      "Collecting frozenlist>=1.1.1\r\n",
      "  Using cached frozenlist-1.4.1-cp310-cp310-macosx_11_0_arm64.whl (52 kB)\r\n",
      "Collecting yarl<2.0,>=1.0\r\n",
      "  Using cached yarl-1.9.4-cp310-cp310-macosx_11_0_arm64.whl (79 kB)\r\n",
      "Requirement already satisfied: async-timeout<5.0,>=4.0 in /Users/ray/.pyenv/versions/3.10.0/lib/python3.10/site-packages (from aiohttp->dashscope==1.14.1->promptbench) (4.0.3)\r\n",
      "Requirement already satisfied: attrs>=17.3.0 in /Users/ray/.pyenv/versions/3.10.0/lib/python3.10/site-packages (from aiohttp->dashscope==1.14.1->promptbench) (23.2.0)\r\n",
      "Collecting multidict<7.0,>=4.5\r\n",
      "  Using cached multidict-6.0.5-cp310-cp310-macosx_11_0_arm64.whl (30 kB)\r\n",
      "Collecting googleapis-common-protos<2.0.dev0,>=1.56.2\r\n",
      "  Downloading googleapis_common_protos-1.63.2-py2.py3-none-any.whl (220 kB)\r\n",
      "\u001B[K     |████████████████████████████████| 220 kB 30.4 MB/s eta 0:00:01\r\n",
      "\u001B[?25hRequirement already satisfied: grpcio<2.0dev,>=1.33.2 in /Users/ray/.pyenv/versions/3.10.0/lib/python3.10/site-packages (from google-api-core->google-generativeai==0.4.0->promptbench) (1.62.2)\r\n",
      "Collecting grpcio-status<2.0.dev0,>=1.33.2\r\n",
      "  Downloading grpcio_status-1.65.1-py3-none-any.whl (14 kB)\r\n",
      "Collecting rsa<5,>=3.1.4\r\n",
      "  Using cached rsa-4.9-py3-none-any.whl (34 kB)\r\n",
      "Collecting cachetools<6.0,>=2.0.0\r\n",
      "  Downloading cachetools-5.4.0-py3-none-any.whl (9.5 kB)\r\n",
      "Collecting pyasn1-modules>=0.2.1\r\n",
      "  Using cached pyasn1_modules-0.4.0-py3-none-any.whl (181 kB)\r\n",
      "Collecting grpcio-status<2.0.dev0,>=1.33.2\r\n",
      "  Downloading grpcio_status-1.64.1-py3-none-any.whl (14 kB)\r\n",
      "Collecting grpcio<2.0dev,>=1.33.2\r\n",
      "  Using cached grpcio-1.65.1-cp310-cp310-macosx_12_0_universal2.whl (10.4 MB)\r\n",
      "Collecting grpcio-status<2.0.dev0,>=1.33.2\r\n",
      "  Downloading grpcio_status-1.64.0-py3-none-any.whl (14 kB)\r\n",
      "  Downloading grpcio_status-1.63.0-py3-none-any.whl (14 kB)\r\n",
      "  Downloading grpcio_status-1.62.2-py3-none-any.whl (14 kB)\r\n",
      "Requirement already satisfied: httpcore==1.* in /Users/ray/.pyenv/versions/3.10.0/lib/python3.10/site-packages (from httpx<1,>=0.23.0->openai==1.3.7->promptbench) (1.0.5)\r\n",
      "Requirement already satisfied: certifi in /Users/ray/.pyenv/versions/3.10.0/lib/python3.10/site-packages (from httpx<1,>=0.23.0->openai==1.3.7->promptbench) (2024.2.2)\r\n",
      "Requirement already satisfied: h11<0.15,>=0.13 in /Users/ray/.pyenv/versions/3.10.0/lib/python3.10/site-packages (from httpcore==1.*->httpx<1,>=0.23.0->openai==1.3.7->promptbench) (0.14.0)\r\n",
      "Collecting pyasn1<0.7.0,>=0.4.6\r\n",
      "  Using cached pyasn1-0.6.0-py2.py3-none-any.whl (85 kB)\r\n",
      "Requirement already satisfied: annotated-types>=0.4.0 in /Users/ray/.pyenv/versions/3.10.0/lib/python3.10/site-packages (from pydantic->google-generativeai==0.4.0->promptbench) (0.7.0)\r\n",
      "Requirement already satisfied: pydantic-core==2.20.1 in /Users/ray/.pyenv/versions/3.10.0/lib/python3.10/site-packages (from pydantic->google-generativeai==0.4.0->promptbench) (2.20.1)\r\n",
      "Requirement already satisfied: six>=1.5 in /Users/ray/.pyenv/versions/3.10.0/lib/python3.10/site-packages (from python-dateutil>=2.7->matplotlib==3.8.3->promptbench) (1.16.0)\r\n",
      "Requirement already satisfied: charset-normalizer<4,>=2 in /Users/ray/.pyenv/versions/3.10.0/lib/python3.10/site-packages (from requests->dashscope==1.14.1->promptbench) (3.3.2)\r\n",
      "Requirement already satisfied: urllib3<3,>=1.21.1 in /Users/ray/.pyenv/versions/3.10.0/lib/python3.10/site-packages (from requests->dashscope==1.14.1->promptbench) (2.2.1)\r\n",
      "Requirement already satisfied: MarkupSafe>=2.0 in /Users/ray/.pyenv/versions/3.10.0/lib/python3.10/site-packages (from jinja2->torch==2.1.1->promptbench) (2.1.5)\r\n",
      "Requirement already satisfied: pytz>=2020.1 in /Users/ray/.pyenv/versions/3.10.0/lib/python3.10/site-packages (from pandas->datasets>=2.15.0->promptbench) (2024.1)\r\n",
      "Requirement already satisfied: tzdata>=2022.7 in /Users/ray/.pyenv/versions/3.10.0/lib/python3.10/site-packages (from pandas->datasets>=2.15.0->promptbench) (2024.1)\r\n",
      "Collecting mpmath<1.4,>=1.1.0\r\n",
      "  Using cached mpmath-1.3.0-py3-none-any.whl (536 kB)\r\n",
      "Building wheels for collected packages: autocorrect, transformers-stream-generator\r\n",
      "  Building wheel for autocorrect (setup.py) ... \u001B[?25ldone\r\n",
      "\u001B[?25h  Created wheel for autocorrect: filename=autocorrect-2.6.1-py3-none-any.whl size=622381 sha256=0d121971e5ddf4f6abfb747c7adf9836ee0778b82f07cbf90551972a6b6fb103\r\n",
      "  Stored in directory: /Users/ray/Library/Caches/pip/wheels/b5/7b/6d/b76b29ce11ff8e2521c8c7dd0e5bfee4fb1789d76193124343\r\n",
      "  Building wheel for transformers-stream-generator (setup.py) ... \u001B[?25ldone\r\n",
      "\u001B[?25h  Created wheel for transformers-stream-generator: filename=transformers_stream_generator-0.0.5-py3-none-any.whl size=12441 sha256=1adea8fc52f50a762633f172062ab7fa40c9a6df8ca506ae08c1d1abda1a4179\r\n",
      "  Stored in directory: /Users/ray/Library/Caches/pip/wheels/95/4a/90/140f7b67d125906f6a165f38aad212ecb4a695ad0d87582437\r\n",
      "Successfully built autocorrect transformers-stream-generator\r\n",
      "Installing collected packages: pyasn1, rsa, pyasn1-modules, cachetools, tqdm, requests, proto-plus, multidict, googleapis-common-protos, google-auth, fsspec, frozenlist, filelock, yarl, mpmath, huggingface-hub, grpcio-status, google-api-core, aiosignal, tokenizers, sympy, safetensors, regex, networkx, dill, anyio, aiohttp, xxhash, transformers, torch, pyarrow-hotfix, pyarrow, multiprocess, joblib, google-ai-generativelanguage, transformers-stream-generator, torchvision, tiktoken, sentencepiece, openai, nltk, matplotlib, google-generativeai, einops, datasets, dashscope, autocorrect, accelerate, promptbench\r\n",
      "  Attempting uninstall: tqdm\r\n",
      "    Found existing installation: tqdm 4.66.4\r\n",
      "    Uninstalling tqdm-4.66.4:\r\n",
      "      Successfully uninstalled tqdm-4.66.4\r\n",
      "  Attempting uninstall: requests\r\n",
      "    Found existing installation: requests 2.31.0\r\n",
      "    Uninstalling requests-2.31.0:\r\n",
      "      Successfully uninstalled requests-2.31.0\r\n",
      "  Attempting uninstall: anyio\r\n",
      "    Found existing installation: anyio 4.3.0\r\n",
      "    Uninstalling anyio-4.3.0:\r\n",
      "      Successfully uninstalled anyio-4.3.0\r\n",
      "  Attempting uninstall: openai\r\n",
      "    Found existing installation: openai 1.37.1\r\n",
      "    Uninstalling openai-1.37.1:\r\n",
      "      Successfully uninstalled openai-1.37.1\r\n",
      "  Attempting uninstall: matplotlib\r\n",
      "    Found existing installation: matplotlib 3.8.4\r\n",
      "    Uninstalling matplotlib-3.8.4:\r\n",
      "      Successfully uninstalled matplotlib-3.8.4\r\n",
      "Successfully installed accelerate-0.25.0 aiohttp-3.9.5 aiosignal-1.3.1 anyio-3.7.1 autocorrect-2.6.1 cachetools-5.4.0 dashscope-1.14.1 datasets-2.19.2 dill-0.3.8 einops-0.7.0 filelock-3.15.4 frozenlist-1.4.1 fsspec-2024.3.1 google-ai-generativelanguage-0.4.0 google-api-core-2.19.1 google-auth-2.32.0 google-generativeai-0.4.0 googleapis-common-protos-1.63.2 grpcio-status-1.62.2 huggingface-hub-0.24.2 joblib-1.4.2 matplotlib-3.8.3 mpmath-1.3.0 multidict-6.0.5 multiprocess-0.70.16 networkx-3.3 nltk-3.8.1 openai-1.3.7 promptbench-0.0.3 proto-plus-1.24.0 pyarrow-17.0.0 pyarrow-hotfix-0.6 pyasn1-0.6.0 pyasn1-modules-0.4.0 regex-2024.7.24 requests-2.32.3 rsa-4.9 safetensors-0.4.3 sentencepiece-0.1.99 sympy-1.13.1 tiktoken-0.6.0 tokenizers-0.15.0 torch-2.1.1 torchvision-0.16.1 tqdm-4.66.1 transformers-4.38.0 transformers-stream-generator-0.0.5 xxhash-3.4.1 yarl-1.9.4\r\n",
      "\u001B[33mWARNING: You are using pip version 21.2.3; however, version 24.2 is available.\r\n",
      "You should consider upgrading via the '/Users/ray/.pyenv/versions/3.10.0/bin/python3.10 -m pip install --upgrade pip' command.\u001B[0m\r\n"
     ]
    }
   ],
   "execution_count": 2
  },
  {
   "metadata": {
    "ExecuteTime": {
     "end_time": "2024-07-29T09:13:45.612106Z",
     "start_time": "2024-07-29T09:13:25.467189Z"
    }
   },
   "cell_type": "code",
   "source": [
    "import promptbench as pb\n",
    "\n",
    "# print all supported datasets in promptbench\n",
    "print('All supported datasets: ')\n",
    "print(pb.SUPPORTED_DATASETS)\n",
    "\n",
    "# load a dataset, sst2, for instance.\n",
    "# if the dataset is not available locally, it will be downloaded automatically.\n",
    "dataset_name = \"gsm8k\"\n",
    "dataset = pb.DatasetLoader.load_dataset(dataset_name)\n",
    "\n",
    "# print the first 3 examples\n",
    "dataset[:3]"
   ],
   "id": "f00fb1e36a67329e",
   "outputs": [
    {
     "name": "stdout",
     "output_type": "stream",
     "text": [
      "All supported datasets: \n",
      "['sst2', 'cola', 'qqp', 'mnli', 'mnli_matched', 'mnli_mismatched', 'qnli', 'wnli', 'rte', 'mrpc', 'mmlu', 'squad_v2', 'un_multi', 'iwslt2017', 'math', 'bool_logic', 'valid_parentheses', 'gsm8k', 'csqa', 'bigbench_date', 'bigbench_object_tracking', 'last_letter_concat', 'numersense', 'qasc', 'bbh', 'drop', 'arc-easy', 'arc-challenge']\n"
     ]
    },
    {
     "data": {
      "text/plain": [
       "Downloading readme:   0%|          | 0.00/7.94k [00:00<?, ?B/s]"
      ],
      "application/vnd.jupyter.widget-view+json": {
       "version_major": 2,
       "version_minor": 0,
       "model_id": "a1a61cc3e26b4752a88e93f3b3f6be6b"
      }
     },
     "metadata": {},
     "output_type": "display_data"
    },
    {
     "data": {
      "text/plain": [
       "Downloading data:   0%|          | 0.00/2.31M [00:00<?, ?B/s]"
      ],
      "application/vnd.jupyter.widget-view+json": {
       "version_major": 2,
       "version_minor": 0,
       "model_id": "e212a3b36ff4471680c787c4cf3d97ad"
      }
     },
     "metadata": {},
     "output_type": "display_data"
    },
    {
     "data": {
      "text/plain": [
       "Downloading data:   0%|          | 0.00/419k [00:00<?, ?B/s]"
      ],
      "application/vnd.jupyter.widget-view+json": {
       "version_major": 2,
       "version_minor": 0,
       "model_id": "47b92b1380224d2ab10aa27d5de710cf"
      }
     },
     "metadata": {},
     "output_type": "display_data"
    },
    {
     "data": {
      "text/plain": [
       "Generating train split:   0%|          | 0/7473 [00:00<?, ? examples/s]"
      ],
      "application/vnd.jupyter.widget-view+json": {
       "version_major": 2,
       "version_minor": 0,
       "model_id": "ff800912c3f540949a993faf1aca2639"
      }
     },
     "metadata": {},
     "output_type": "display_data"
    },
    {
     "data": {
      "text/plain": [
       "Generating test split:   0%|          | 0/1319 [00:00<?, ? examples/s]"
      ],
      "application/vnd.jupyter.widget-view+json": {
       "version_major": 2,
       "version_minor": 0,
       "model_id": "68406122566c41de85799390490258ff"
      }
     },
     "metadata": {},
     "output_type": "display_data"
    },
    {
     "data": {
      "text/plain": [
       "[{'content': \"Janet’s ducks lay 16 eggs per day. She eats three for breakfast every morning and bakes muffins for her friends every day with four. She sells the remainder at the farmers' market daily for $2 per fresh duck egg. How much in dollars does she make every day at the farmers' market?\",\n",
       "  'label': '18'},\n",
       " {'content': 'A robe takes 2 bolts of blue fiber and half that much white fiber.  How many bolts in total does it take?',\n",
       "  'label': '3'},\n",
       " {'content': 'Josh decides to try flipping a house.  He buys a house for $80,000 and then puts in $50,000 in repairs.  This increased the value of the house by 150%.  How much profit did he make?',\n",
       "  'label': '70000'}]"
      ]
     },
     "execution_count": 3,
     "metadata": {},
     "output_type": "execute_result"
    }
   ],
   "execution_count": 3
  },
  {
   "metadata": {
    "ExecuteTime": {
     "end_time": "2024-07-29T09:17:36.963374Z",
     "start_time": "2024-07-29T09:17:36.961328Z"
    }
   },
   "cell_type": "code",
   "source": [
    "model = pb.LLMModel(model='gpt-3.5-turbo',\n",
    "                    api_key = os.environ['OPENAI_API_KEY'],\n",
    "                    max_new_tokens=150)"
   ],
   "id": "fb35517f3227e7d9",
   "outputs": [],
   "execution_count": 7
  },
  {
   "metadata": {
    "ExecuteTime": {
     "end_time": "2024-07-29T09:17:37.542942Z",
     "start_time": "2024-07-29T09:17:37.540577Z"
    }
   },
   "cell_type": "code",
   "source": [
    "method = pb.PEMethod(method='emotion_prompt',\n",
    "                        dataset=dataset_name,\n",
    "                        verbose=True,  # if True, print the detailed prompt and response\n",
    "                        prompt_id = 1  # for emotion_prompt\n",
    "                        )"
   ],
   "id": "749ca3d5bb98e871",
   "outputs": [],
   "execution_count": 8
  },
  {
   "metadata": {
    "ExecuteTime": {
     "end_time": "2024-07-29T09:17:44.385722Z",
     "start_time": "2024-07-29T09:17:38.885280Z"
    }
   },
   "cell_type": "code",
   "source": [
    "results = method.test(dataset,\n",
    "                      model,\n",
    "                      num_samples=3 # if don't set the num_samples, method will use all examples in the dataset\n",
    "                      )\n",
    "results"
   ],
   "id": "2a610a78a8e51cc2",
   "outputs": [
    {
     "name": "stderr",
     "output_type": "stream",
     "text": [
      "  0%|          | 1/1319 [00:02<48:23,  2.20s/it]"
     ]
    },
    {
     "name": "stdout",
     "output_type": "stream",
     "text": [
      "Janet’s ducks lay 16 eggs per day. She eats three for breakfast every morning and bakes muffins for her friends every day with four. She sells the remainder at the farmers' market daily for $2 per fresh duck egg. How much in dollars does she make every day at the farmers' market?\n",
      "This is very important to my career.\n",
      "Please output your answer at the end as ##<your answer (arabic numerals)>\n",
      "\n",
      "To find out how much Janet makes at the farmers' market every day, we first need to calculate how many eggs she has left after eating three for breakfast and using four for muffins.\n",
      "\n",
      "Janet has 16 eggs per day.\n",
      "She eats 3 for breakfast and uses 4 for muffins, so she uses 3 + 4 = 7 eggs.\n",
      "Therefore, she has 16 - 7 = 9 eggs left to sell.\n",
      "\n",
      "She sells each fresh duck egg for $2.\n",
      "So, she makes 9 * $2 = $18 every day at the farmers' market.\n",
      "\n",
      "Therefore, Janet makes $18 every day at the farmers' market.##18\n"
     ]
    },
    {
     "name": "stderr",
     "output_type": "stream",
     "text": [
      "  0%|          | 2/1319 [00:03<35:35,  1.62s/it]"
     ]
    },
    {
     "name": "stdout",
     "output_type": "stream",
     "text": [
      "A robe takes 2 bolts of blue fiber and half that much white fiber.  How many bolts in total does it take?\n",
      "This is very important to my career.\n",
      "Please output your answer at the end as ##<your answer (arabic numerals)>\n",
      "\n",
      "To make a robe, you need 2 bolts of blue fiber and half that amount of white fiber, which is 1 bolt. Therefore, in total, it takes 2 bolts of blue fiber and 1 bolt of white fiber.\n",
      "\n",
      "Adding them together, the total number of bolts needed for the robe is 2 + 1 = 3 bolts.\n",
      "\n",
      "##3\n"
     ]
    },
    {
     "name": "stderr",
     "output_type": "stream",
     "text": [
      "  0%|          | 3/1319 [00:05<40:10,  1.83s/it]"
     ]
    },
    {
     "name": "stdout",
     "output_type": "stream",
     "text": [
      "Josh decides to try flipping a house.  He buys a house for $80,000 and then puts in $50,000 in repairs.  This increased the value of the house by 150%.  How much profit did he make?\n",
      "This is very important to my career.\n",
      "Please output your answer at the end as ##<your answer (arabic numerals)>\n",
      "\n",
      "To find out how much profit Josh made, we first need to calculate the new value of the house after the repairs.\n",
      "\n",
      "The increase in value due to the repairs is 150% of the original value of the house, which is $80,000. So, the increase in value is 150/100 * $80,000 = $120,000.\n",
      "\n",
      "The new value of the house after the repairs is the original value plus the increase in value: $80,000 + $120,000 = $200,000.\n",
      "\n",
      "Josh's total investment in the house is the purchase price plus the cost of repairs: $80,000 + $50,000 = $130,000.\n",
      "\n",
      "Therefore, Josh's profit is the new value of the\n"
     ]
    },
    {
     "name": "stderr",
     "output_type": "stream",
     "text": [
      "\n"
     ]
    },
    {
     "data": {
      "text/plain": [
       "0.6666666666666666"
      ]
     },
     "execution_count": 9,
     "metadata": {},
     "output_type": "execute_result"
    }
   ],
   "execution_count": 9
  },
  {
   "metadata": {},
   "cell_type": "code",
   "outputs": [],
   "execution_count": null,
   "source": "",
   "id": "d09e3bf92384f254"
  }
 ],
 "metadata": {
  "kernelspec": {
   "display_name": "Python 3",
   "language": "python",
   "name": "python3"
  },
  "language_info": {
   "codemirror_mode": {
    "name": "ipython",
    "version": 2
   },
   "file_extension": ".py",
   "mimetype": "text/x-python",
   "name": "python",
   "nbconvert_exporter": "python",
   "pygments_lexer": "ipython2",
   "version": "2.7.6"
  }
 },
 "nbformat": 4,
 "nbformat_minor": 5
}
