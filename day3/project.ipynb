{
 "cells": [
  {
   "metadata": {},
   "cell_type": "code",
   "outputs": [],
   "execution_count": null,
   "source": [
    "%%capture --no-stderr\n",
    "%pip install langchain_community tiktoken langchainhub chromadb langchain langgraph tavily-python langchain-text-splitters arxiv langchain_openai pymupdf faiss-cpu"
   ],
   "id": "14bce3b02f6bdcbf"
  },
  {
   "cell_type": "code",
   "id": "initial_id",
   "metadata": {
    "collapsed": true,
    "ExecuteTime": {
     "end_time": "2024-07-31T05:02:40.564679Z",
     "start_time": "2024-07-31T05:02:39.587260Z"
    }
   },
   "source": [
    "import getpass\n",
    "import os\n",
    "\n",
    "os.environ[\"OPENAI_API_KEY\"] = getpass.getpass()"
   ],
   "outputs": [],
   "execution_count": 2
  },
  {
   "metadata": {
    "ExecuteTime": {
     "end_time": "2024-07-31T05:02:48.403013Z",
     "start_time": "2024-07-31T05:02:47.480132Z"
    }
   },
   "cell_type": "code",
   "source": "os.environ[\"TAVILY_API_KEY\"] = getpass.getpass()",
   "id": "fbd1245ecc1c12c1",
   "outputs": [],
   "execution_count": 3
  },
  {
   "metadata": {
    "ExecuteTime": {
     "end_time": "2024-07-31T05:03:29.354736Z",
     "start_time": "2024-07-31T05:03:29.188742Z"
    }
   },
   "cell_type": "code",
   "source": [
    "from tavily import TavilyClient\n",
    "tavily = TavilyClient(api_key=os.environ[\"TAVILY_API_KEY\"])"
   ],
   "id": "3d24d2e018d43965",
   "outputs": [],
   "execution_count": 4
  },
  {
   "metadata": {
    "ExecuteTime": {
     "end_time": "2024-07-31T05:03:40.198419Z",
     "start_time": "2024-07-31T05:03:39.746295Z"
    }
   },
   "cell_type": "code",
   "source": [
    "from langchain_openai import ChatOpenAI\n",
    "\n",
    "llm = ChatOpenAI(model=\"gpt-4o-mini\", temperature = 0)"
   ],
   "id": "690f3b387b87b559",
   "outputs": [],
   "execution_count": 5
  },
  {
   "metadata": {
    "ExecuteTime": {
     "end_time": "2024-07-31T05:04:39.135766Z",
     "start_time": "2024-07-31T05:04:34.852127Z"
    }
   },
   "cell_type": "code",
   "source": [
    "## create vector store\n",
    "from langchain_community.document_loaders import WebBaseLoader\n",
    "from langchain_openai import OpenAIEmbeddings\n",
    "from langchain_community.vectorstores import Chroma\n",
    "from langchain_text_splitters import RecursiveCharacterTextSplitter\n",
    "\n",
    "urls = [\n",
    "    \"https://lilianweng.github.io/posts/2023-06-23-agent/\",\n",
    "    \"https://lilianweng.github.io/posts/2023-03-15-prompt-engineering/\",\n",
    "    \"https://lilianweng.github.io/posts/2023-10-25-adv-attack-llm/\",\n",
    "]\n",
    "\n",
    "docs = [WebBaseLoader(url).load() for url in urls]\n",
    "docs_list = [item for sublist in docs for item in sublist]\n",
    "\n",
    "text_splitter = RecursiveCharacterTextSplitter.from_tiktoken_encoder(\n",
    "    chunk_size=250, chunk_overlap=0\n",
    ")\n",
    "doc_splits = text_splitter.split_documents(docs_list)\n",
    "\n",
    "# Add to vectorDB\n",
    "vectorstore = Chroma.from_documents(\n",
    "    documents=doc_splits,\n",
    "    collection_name=\"rag-chroma\",\n",
    "    embedding = OpenAIEmbeddings(model=\"text-embedding-3-small\")\n",
    ")\n",
    "retriever = vectorstore.as_retriever()"
   ],
   "id": "f21b02d2541d5e4f",
   "outputs": [
    {
     "name": "stderr",
     "output_type": "stream",
     "text": [
      "USER_AGENT environment variable not set, consider setting it to identify your requests.\n"
     ]
    }
   ],
   "execution_count": 6
  },
  {
   "metadata": {
    "ExecuteTime": {
     "end_time": "2024-07-31T07:44:15.436451Z",
     "start_time": "2024-07-31T07:44:15.434039Z"
    }
   },
   "cell_type": "code",
   "source": [
    "# graph state\n",
    "from typing_extensions import TypedDict\n",
    "from typing import List\n",
    "\n",
    "class GraphState(TypedDict):\n",
    "    question: str\n",
    "    documents: List[str]\n",
    "    web_search: str\n",
    "    score: str\n",
    "    generation: str"
   ],
   "id": "328f2aafa1199de7",
   "outputs": [],
   "execution_count": 271
  },
  {
   "metadata": {
    "ExecuteTime": {
     "end_time": "2024-07-31T07:44:15.694436Z",
     "start_time": "2024-07-31T07:44:15.691785Z"
    }
   },
   "cell_type": "code",
   "source": [
    "# retrieval documents\n",
    "from langchain_core.prompts import ChatPromptTemplate\n",
    "\n",
    "def retrieve_documents(state: GraphState) -> GraphState:\n",
    "    \"\"\"\n",
    "    Retrieve documents relevant to a user question\n",
    "    \n",
    "    Args:\n",
    "        state (dict): The current graph state\n",
    "\n",
    "    Returns:\n",
    "        state (dict): Retrieved documents and updated web_search state\n",
    "    \"\"\"\n",
    "    \n",
    "    documents = retriever.invoke(state[\"question\"])\n",
    "    \n",
    "    return GraphState(\n",
    "        question=state[\"question\"],\n",
    "        documents=documents,\n",
    "        generation=state[\"generation\"],\n",
    "        web_search=\"no\",\n",
    "        score=\"\",\n",
    "    )"
   ],
   "id": "aadd8de3d7839fdf",
   "outputs": [],
   "execution_count": 272
  },
  {
   "metadata": {
    "ExecuteTime": {
     "end_time": "2024-07-31T07:44:15.995078Z",
     "start_time": "2024-07-31T07:44:15.992210Z"
    }
   },
   "cell_type": "code",
   "source": [
    "# relevance checker\n",
    "from langchain_core.output_parsers import JsonOutputParser\n",
    "\n",
    "def check_relevance(state: GraphState) -> str:\n",
    "    \"\"\"\n",
    "    Check relevance of a document to a user question\n",
    "    \n",
    "    Args:\n",
    "        state (dict): The current graph state\n",
    "\n",
    "    Returns:\n",
    "        state (dict): Filtered out irrelevant documents and updated web_search state\n",
    "    \"\"\"\n",
    "    system = \"\"\"You are a grader assessing relevance\n",
    "        of a retrieved document to a user question. If the document contains keywords related to the user question,\n",
    "        grade it as relevant. It does not need to be a stringent test. The goal is to filter out erroneous retrievals. \\n\n",
    "        Give a binary score 'yes' or 'no' score to indicate whether the document is relevant to the question. \\n\n",
    "        Provide the binary score as a JSON with a single key 'score' and no premable or explanation.\n",
    "        \"\"\"\n",
    "    \n",
    "    prompt = ChatPromptTemplate.from_messages(\n",
    "        [\n",
    "            (\"system\", system),\n",
    "            (\"human\", \"question: {question}\\n\\n document: {document} \"),\n",
    "        ]\n",
    "    )\n",
    "    \n",
    "    checker = prompt | llm | JsonOutputParser()\n",
    "    \n",
    "    response = checker.invoke({\"question\": state[\"question\"], \"document\": state[\"documents\"]})\n",
    "    return response[\"score\"]"
   ],
   "id": "e2489f143c99e8bc",
   "outputs": [],
   "execution_count": 273
  },
  {
   "metadata": {
    "ExecuteTime": {
     "end_time": "2024-07-31T07:44:16.235011Z",
     "start_time": "2024-07-31T07:44:16.231995Z"
    }
   },
   "cell_type": "code",
   "source": [
    "# generate answer\n",
    "from langchain_core.prompts import ChatPromptTemplate\n",
    "from langchain_core.output_parsers import StrOutputParser\n",
    "\n",
    "def generate_answer(state: GraphState) -> GraphState:\n",
    "    \"\"\"\n",
    "    Generate an answer to a user question\n",
    "    \n",
    "    Args:\n",
    "        state (dict): The current graph state\n",
    "\n",
    "    Returns:\n",
    "        str: The answer to the user question\n",
    "    \"\"\"\n",
    "    system = \"\"\"You are an assistant for question-answering tasks.\n",
    "    Use the following pieces of retrieved context to answer the question. If you don't know the answer, just say that you don't know.\n",
    "    Use three sentences maximum and keep the answer concise\"\"\"\n",
    "\n",
    "    prompt = ChatPromptTemplate.from_messages(\n",
    "        [\n",
    "            (\"system\", system),\n",
    "            (\"human\", \"question: {question}\\n\\n context: {context} \"),\n",
    "        ]\n",
    "    )\n",
    "    \n",
    "    # Chain\n",
    "    chain = prompt | llm | StrOutputParser()\n",
    "    \n",
    "    response = chain.invoke({\"question\": state[\"question\"], \"context\": state[\"documents\"]})\n",
    "    return GraphState(\n",
    "        question=state[\"question\"],\n",
    "        documents=state[\"documents\"],\n",
    "        web_search=state[\"web_search\"],\n",
    "        generation=response,\n",
    "        score=\"\",\n",
    "    )"
   ],
   "id": "d9995ffb884566f7",
   "outputs": [],
   "execution_count": 274
  },
  {
   "metadata": {
    "ExecuteTime": {
     "end_time": "2024-07-31T07:49:13.687954Z",
     "start_time": "2024-07-31T07:49:13.684889Z"
    }
   },
   "cell_type": "code",
   "source": [
    "from langchain_core.documents import Document\n",
    "\n",
    "def web_search_tavily(state: GraphState) -> GraphState:\n",
    "    \"\"\"\n",
    "    Web search based based on the question\n",
    "\n",
    "    Args:\n",
    "        state (dict): The current graph state\n",
    "\n",
    "    Returns:\n",
    "        state (dict): Appended web results to documents\n",
    "    \"\"\"\n",
    "\n",
    "    print(\"---WEB SEARCH---\")\n",
    "    question = state[\"question\"]\n",
    "    documents = state[\"documents\"]\n",
    "\n",
    "    # Web search\n",
    "    response = tavily.search(query=question, max_results=5)\n",
    "    docs = response['results']\n",
    "    print(\"Web search results:\\n\")\n",
    "    #print(docs)\n",
    "    web_results = []\n",
    "    for doc in docs:\n",
    "        web_results.append(Document(\n",
    "            page_content=doc[\"content\"],\n",
    "            metadata={\"title\": doc[\"title\"], \"source\": doc[\"url\"]}\n",
    "        ))\n",
    "    #web_results = \"\\n\".join([d[\"content\"] for d in docs])\n",
    "    #web_results = Document(page_content=web_results)\n",
    "    \n",
    "    return GraphState(\n",
    "        question=state[\"question\"],\n",
    "        documents=web_results,\n",
    "        web_search=\"yes\",\n",
    "        generation=state[\"generation\"],\n",
    "        score=\"\",\n",
    "    )"
   ],
   "id": "4b6dff2dff6629f6",
   "outputs": [],
   "execution_count": 296
  },
  {
   "metadata": {
    "ExecuteTime": {
     "end_time": "2024-07-31T07:49:13.891330Z",
     "start_time": "2024-07-31T07:49:13.887345Z"
    }
   },
   "cell_type": "code",
   "source": [
    "# hallucination checker\n",
    "from langchain_core.prompts import ChatPromptTemplate\n",
    "\n",
    "def check_hallucination(state: GraphState) -> str:\n",
    "    h_system = \"\"\"You are a grader assessing whether\n",
    "    an answer is grounded in / supported by a set of facts. Give a binary 'yes' or 'no' score to indicate\n",
    "    whether the answer is grounded in / supported by a set of facts. Provide the binary score as a JSON with a\n",
    "    single key 'score' and no preamble or explanation.\"\"\"\n",
    "\n",
    "    h_prompt = ChatPromptTemplate.from_messages(\n",
    "        [\n",
    "            (\"system\", h_system),\n",
    "            (\"human\", \"documents: {documents}\\n\\n answer: {generation} \"),\n",
    "        ]\n",
    "    )\n",
    "    \n",
    "    h_chain = h_prompt | llm | JsonOutputParser()\n",
    "    \n",
    "    a_system = \"\"\"You are a grader assessing whether an\n",
    "    answer is useful to resolve a question. Give a binary score 'yes' or 'no' to indicate whether the answer is\n",
    "    useful to resolve a question. Provide the binary score as a JSON with a single key 'score' and no preamble or explanation.\"\"\"\n",
    "\n",
    "    a_prompt = ChatPromptTemplate.from_messages(\n",
    "        [\n",
    "            (\"system\", a_system),\n",
    "            (\"human\", \"question: {question}\\n\\n answer: {generation} \"),\n",
    "        ]\n",
    "    )\n",
    "    \n",
    "    answer_grader = a_prompt | llm | JsonOutputParser()\n",
    "    \n",
    "    score = h_chain.invoke({\"documents\": state[\"documents\"], \"generation\": state[\"generation\"]})\n",
    "    grade = score[\"score\"]\n",
    "    \n",
    "    if grade == \"yes\":\n",
    "        answer = answer_grader.invoke({\"question\": state[\"question\"], \"generation\": state[\"generation\"]})\n",
    "        grade = answer[\"score\"]\n",
    "        if grade == \"yes\":\n",
    "            print(\"---DECISION: GENERATION ADDRESSES QUESTION---\")\n",
    "            return \"useful\"\n",
    "        else:\n",
    "            print(\"---DECISION: GENERATION DOES NOT ADDRESS QUESTION---\")\n",
    "            return \"not useful\"\n",
    "    else:\n",
    "        pprint(\"---DECISION: GENERATION IS NOT GROUNDED IN DOCUMENTS, RE-TRY---\")\n",
    "        return \"not supported\""
   ],
   "id": "2247207834c22bb",
   "outputs": [],
   "execution_count": 297
  },
  {
   "metadata": {
    "ExecuteTime": {
     "end_time": "2024-07-31T07:49:14.063559Z",
     "start_time": "2024-07-31T07:49:14.061116Z"
    }
   },
   "cell_type": "code",
   "source": [
    "# generation final output\n",
    "\n",
    "def generate_final_output(state:GraphState) -> GraphState:\n",
    "    \"\"\"\n",
    "    Generate final output\n",
    "    \n",
    "    Args:\n",
    "        state (dict): The current graph state\n",
    "\n",
    "    Returns:\n",
    "        state (dict): The final output\n",
    "    \"\"\"\n",
    "    return GraphState(\n",
    "        question=state[\"question\"],\n",
    "        documents=state[\"documents\"],\n",
    "        web_search=state[\"web_search\"],\n",
    "        generation=state[\"generation\"],\n",
    "        score=\"final\",\n",
    "    )"
   ],
   "id": "b81b36a0b6fef16f",
   "outputs": [],
   "execution_count": 298
  },
  {
   "metadata": {
    "ExecuteTime": {
     "end_time": "2024-07-31T07:49:14.243847Z",
     "start_time": "2024-07-31T07:49:14.240608Z"
    }
   },
   "cell_type": "code",
   "source": [
    "# graph transitions\n",
    "from langgraph.graph import END, StateGraph\n",
    "\n",
    "workflow = StateGraph(GraphState)\n",
    "\n",
    "workflow.add_node(\"retrieve\", retrieve_documents)  # retrieve documents\n",
    "workflow.add_node(\"generate\", generate_answer)  # generate answer\n",
    "workflow.add_node(\"web_search_tavily\", web_search_tavily)  # generate answer\n",
    "workflow.add_node(\"final_output\", generate_final_output)  # generate final output\n",
    "\n",
    "workflow.set_entry_point(\"retrieve\")\n",
    "workflow.add_conditional_edges(\n",
    "    \"retrieve\",\n",
    "    check_relevance,\n",
    "    {\"yes\": \"generate\", \"no\": \"web_search_tavily\"},\n",
    ")\n",
    "workflow.add_conditional_edges(\"web_search_tavily\", \n",
    "    check_relevance,\n",
    "    {\"yes\": \"generate\", \"no\": \"web_search_tavily\"},)\n",
    "workflow.add_conditional_edges(\n",
    "    \"generate\",\n",
    "    check_hallucination,\n",
    "    {\n",
    "        \"not supported\": \"generate\",\n",
    "        \"useful\": \"final_output\",\n",
    "        \"not useful\": \"web_search_tavily\",\n",
    "    },\n",
    ")\n"
   ],
   "id": "f0743d4e569a4b47",
   "outputs": [],
   "execution_count": 299
  },
  {
   "metadata": {
    "ExecuteTime": {
     "end_time": "2024-07-31T07:49:14.928636Z",
     "start_time": "2024-07-31T07:49:14.411904Z"
    }
   },
   "cell_type": "code",
   "source": [
    "from IPython.display import Image, display\n",
    "app = workflow.compile()\n",
    "display(Image(app.get_graph().draw_mermaid_png()))"
   ],
   "id": "31647e14316a7c4f",
   "outputs": [
    {
     "data": {
      "image/jpeg": "[encoded data removed]",
      "text/plain": [
       "<IPython.core.display.Image object>"
      ]
     },
     "metadata": {},
     "output_type": "display_data"
    }
   ],
   "execution_count": 300
  },
  {
   "metadata": {
    "ExecuteTime": {
     "end_time": "2024-07-31T07:49:14.932597Z",
     "start_time": "2024-07-31T07:49:14.929883Z"
    }
   },
   "cell_type": "code",
   "source": [
    "def get_document_references(state:GraphState):\n",
    "    documents = state[\"documents\"]\n",
    "    result = []\n",
    "    for doc in documents:\n",
    "        try:\n",
    "            title = doc.metadata[\"title\"]\n",
    "            source = doc.metadata[\"source\"]\n",
    "            result.append(f\"{title} ({source})\")\n",
    "        except:\n",
    "            pass\n",
    "    return \"\\n\".join(result)"
   ],
   "id": "7eb9bdebe0a91487",
   "outputs": [],
   "execution_count": 301
  },
  {
   "metadata": {
    "ExecuteTime": {
     "end_time": "2024-07-31T07:49:24.036879Z",
     "start_time": "2024-07-31T07:49:15.188547Z"
    }
   },
   "cell_type": "code",
   "source": [
    "from pprint import pprint\n",
    "\n",
    "#inputs = {\"question\": \"What is prompt?\"}\n",
    "inputs = {\"question\": \"Who won the gold medal in archery at the Paris Olympics?\"}\n",
    "\n",
    "output = \"\"\n",
    "for output in app.stream(inputs):\n",
    "    for key, value in output.items():\n",
    "        pprint(f\"Finished running: {key}:\")\n",
    "        if key == \"final_output\":\n",
    "            rag_type = \"Vector Store\"\n",
    "            if value[\"web_search\"] == \"yes\":\n",
    "                rag_type = \"Web Search\"\n",
    "            print(f\"Answer: {value['generation']}\\n\")\n",
    "            print(f\"Rag Type: {rag_type}\\n\")\n",
    "            print(f\"References\\n{get_document_references(value)}\")\n",
    "            break\n",
    "        "
   ],
   "id": "9e676b335b814f9a",
   "outputs": [
    {
     "name": "stdout",
     "output_type": "stream",
     "text": [
      "'Finished running: retrieve:'\n",
      "---WEB SEARCH---\n",
      "Web search results:\n",
      "\n",
      "'Finished running: web_search_tavily:'\n",
      "---DECISION: GENERATION ADDRESSES QUESTION---\n",
      "'Finished running: generate:'\n",
      "'Finished running: final_output:'\n",
      "Answer: South Korea won the gold medal in both the men's and women's team archery events at the Paris Olympics. They defeated France 5-1 in the men's final and edged out China 5-4 in the women's final. This victory marked South Korea's continued dominance in archery.\n",
      "\n",
      "Rag Type: Web Search\n",
      "\n",
      "References\n",
      "South Korea beats France to win gold in men's archery team event (https://www.espn.com/olympics/story/_/id/40673341/south-korea-beats-france-win-gold-men-archery-team-event)\n",
      "South Korea edges China for archery Olympic gold after check with a ... (https://apnews.com/article/olympics-2024-archery-south-korea-0f387d5b04061b26d3522037e9030f38)\n",
      "South Korea archery win decided in nail-biting shootout - NBC New York (https://www.nbcnewyork.com/paris-2024-summer-olympics/south-korea-archery-10th-gold/5641368/)\n",
      "South Korea wins 10th straight Olympic gold medal in archery women's ... (https://www.nbcnewyork.com/paris-2024-summer-olympics/south-korea-10th-straight-olympic-gold-medal-archery-womens-team/5641163/)\n",
      "Paris 2024 Olympics: Republic of Korea continue dominance, winning ... (https://olympics.com/en/news/republic-of-korea-wins-gold-paris-2024-archery-women-team)\n"
     ]
    }
   ],
   "execution_count": 302
  },
  {
   "metadata": {},
   "cell_type": "code",
   "outputs": [],
   "execution_count": null,
   "source": "",
   "id": "e23f23471d813c91"
  }
 ],
 "metadata": {
  "kernelspec": {
   "display_name": "Python 3",
   "language": "python",
   "name": "python3"
  },
  "language_info": {
   "codemirror_mode": {
    "name": "ipython",
    "version": 2
   },
   "file_extension": ".py",
   "mimetype": "text/x-python",
   "name": "python",
   "nbconvert_exporter": "python",
   "pygments_lexer": "ipython2",
   "version": "2.7.6"
  }
 },
 "nbformat": 4,
 "nbformat_minor": 5
}
