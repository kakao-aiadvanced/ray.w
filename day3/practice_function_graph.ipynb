{
 "cells": [
  {
   "cell_type": "code",
   "id": "initial_id",
   "metadata": {
    "collapsed": true,
    "ExecuteTime": {
     "end_time": "2024-07-31T04:27:24.909707Z",
     "start_time": "2024-07-31T04:27:15.945726Z"
    }
   },
   "source": [
    "%%capture --no-stderr\n",
    "%pip install langchain_community tiktoken langchainhub chromadb langchain langgraph tavily-python langchain-text-splitters arxiv langchain_openai pymupdf faiss-cpu streamlit"
   ],
   "outputs": [],
   "execution_count": 1
  },
  {
   "metadata": {
    "ExecuteTime": {
     "end_time": "2024-07-31T04:29:10.738009Z",
     "start_time": "2024-07-31T04:29:09.223651Z"
    }
   },
   "cell_type": "code",
   "source": [
    "import getpass\n",
    "import os\n",
    "\n",
    "os.environ[\"OPENAI_API_KEY\"] = getpass.getpass()"
   ],
   "id": "45341472566d3e9d",
   "outputs": [],
   "execution_count": 2
  },
  {
   "metadata": {
    "ExecuteTime": {
     "end_time": "2024-07-31T04:30:49.471977Z",
     "start_time": "2024-07-31T04:30:47.911056Z"
    }
   },
   "cell_type": "code",
   "source": "os.environ[\"TAVILY_API_KEY\"] = getpass.getpass()",
   "id": "f3090c6386f754f7",
   "outputs": [],
   "execution_count": 3
  },
  {
   "metadata": {
    "ExecuteTime": {
     "end_time": "2024-07-31T04:32:36.608468Z",
     "start_time": "2024-07-31T04:32:34.475243Z"
    }
   },
   "cell_type": "code",
   "source": [
    "from tavily import TavilyClient\n",
    "tavily = TavilyClient(api_key=os.environ[\"TAVILY_API_KEY\"])\n",
    "\n",
    "response = tavily.search(query=\"Where does Messi play right now?\", max_results=1)\n",
    "context = [{\"url\": obj[\"url\"], \"content\": obj[\"content\"]} for obj in response['results']]\n",
    "\n",
    "print(context)"
   ],
   "id": "b1c2e76ce76c2eeb",
   "outputs": [
    {
     "name": "stdout",
     "output_type": "stream",
     "text": [
      "[{'url': 'https://www.nbcsports.com/soccer/news/inter-miami-schedule-when-is-lionel-messis-next-mls-game', 'content': \"Messi has now played less than a season's worth of games in an Inter Miami shirt when you add his appearances across all competitions. His numbers are, in true Messi form, stunning to the eye. ... *Wednesday, April 3: 1-2 loss vs Monterrey - Messi did not play Saturday, April 6: 2-2 draw vs Colorado Rapids - 1 goal for Messi, sets up 2nd goal\"}]\n"
     ]
    }
   ],
   "execution_count": 5
  },
  {
   "metadata": {
    "ExecuteTime": {
     "end_time": "2024-07-31T04:34:41.091174Z",
     "start_time": "2024-07-31T04:34:32.708213Z"
    }
   },
   "cell_type": "code",
   "source": [
    "from langchain_openai import ChatOpenAI\n",
    "\n",
    "llm = ChatOpenAI(model=\"gpt-4o-mini\", temperature = 0)\n",
    "\n",
    "from langchain_community.document_loaders import WebBaseLoader\n",
    "from langchain_openai import OpenAIEmbeddings\n",
    "from langchain_community.vectorstores import Chroma\n",
    "from langchain_text_splitters import RecursiveCharacterTextSplitter\n",
    "\n",
    "urls = [\n",
    "    \"https://lilianweng.github.io/posts/2023-06-23-agent/\",\n",
    "    \"https://lilianweng.github.io/posts/2023-03-15-prompt-engineering/\",\n",
    "    \"https://lilianweng.github.io/posts/2023-10-25-adv-attack-llm/\",\n",
    "]\n",
    "\n",
    "docs = [WebBaseLoader(url).load() for url in urls]\n",
    "docs_list = [item for sublist in docs for item in sublist]\n",
    "\n",
    "text_splitter = RecursiveCharacterTextSplitter.from_tiktoken_encoder(\n",
    "    chunk_size=250, chunk_overlap=0\n",
    ")\n",
    "doc_splits = text_splitter.split_documents(docs_list)\n",
    "\n",
    "# Add to vectorDB\n",
    "vectorstore = Chroma.from_documents(\n",
    "    documents=doc_splits,\n",
    "    collection_name=\"rag-chroma\",\n",
    "    embedding = OpenAIEmbeddings(model=\"text-embedding-3-small\")\n",
    ")\n",
    "retriever = vectorstore.as_retriever()"
   ],
   "id": "bfa7ad1bc5130879",
   "outputs": [
    {
     "name": "stderr",
     "output_type": "stream",
     "text": [
      "USER_AGENT environment variable not set, consider setting it to identify your requests.\n"
     ]
    }
   ],
   "execution_count": 6
  },
  {
   "metadata": {
    "ExecuteTime": {
     "end_time": "2024-07-31T04:37:22.252441Z",
     "start_time": "2024-07-31T04:37:22.249340Z"
    }
   },
   "cell_type": "code",
   "source": [
    "### Router\n",
    "from langchain_core.output_parsers import JsonOutputParser\n",
    "from langchain_core.prompts import ChatPromptTemplate\n",
    "\n",
    "system = \"\"\"You are an expert at routing a user question to a vectorstore or web search.\n",
    "Use the vectorstore for questions on LLM agents, prompt engineering, and adversarial attacks.\n",
    "You do not need to be stringent with the keywords in the question related to these topics.\n",
    "Otherwise, use web-search. Give a binary choice 'web_search' or 'vectorstore' based on the question.\n",
    "Return the a JSON with a single key 'datasource' and no premable or explanation. Question to route\"\"\"\n",
    "\n",
    "prompt = ChatPromptTemplate.from_messages(\n",
    "    [\n",
    "        (\"system\", system),\n",
    "        (\"human\", \"question: {question}\"),\n",
    "    ]\n",
    ")\n",
    "\n",
    "question_router = prompt | llm | JsonOutputParser()"
   ],
   "id": "ebf67cc49845fb40",
   "outputs": [],
   "execution_count": 8
  },
  {
   "metadata": {
    "ExecuteTime": {
     "end_time": "2024-07-31T04:37:32.728358Z",
     "start_time": "2024-07-31T04:37:32.725614Z"
    }
   },
   "cell_type": "code",
   "source": [
    "### Retrieval Grader\n",
    "from langchain_core.output_parsers import JsonOutputParser\n",
    "from langchain_core.prompts import ChatPromptTemplate\n",
    "\n",
    "system = \"\"\"You are a grader assessing relevance\n",
    "    of a retrieved document to a user question. If the document contains keywords related to the user question,\n",
    "    grade it as relevant. It does not need to be a stringent test. The goal is to filter out erroneous retrievals. \\n\n",
    "    Give a binary score 'yes' or 'no' score to indicate whether the document is relevant to the question. \\n\n",
    "    Provide the binary score as a JSON with a single key 'score' and no premable or explanation.\n",
    "    \"\"\"\n",
    "\n",
    "prompt = ChatPromptTemplate.from_messages(\n",
    "    [\n",
    "        (\"system\", system),\n",
    "        (\"human\", \"question: {question}\\n\\n document: {document} \"),\n",
    "    ]\n",
    ")\n",
    "\n",
    "retrieval_grader = prompt | llm | JsonOutputParser()"
   ],
   "id": "fec514900b6a103b",
   "outputs": [],
   "execution_count": 9
  },
  {
   "metadata": {
    "ExecuteTime": {
     "end_time": "2024-07-31T04:37:42.614443Z",
     "start_time": "2024-07-31T04:37:42.611987Z"
    }
   },
   "cell_type": "code",
   "source": [
    "### Generate\n",
    "\n",
    "from langchain_core.output_parsers import StrOutputParser\n",
    "from langchain_core.prompts import ChatPromptTemplate\n",
    "\n",
    "system = \"\"\"You are an assistant for question-answering tasks.\n",
    "    Use the following pieces of retrieved context to answer the question. If you don't know the answer, just say that you don't know.\n",
    "    Use three sentences maximum and keep the answer concise\"\"\"\n",
    "\n",
    "prompt = ChatPromptTemplate.from_messages(\n",
    "    [\n",
    "        (\"system\", system),\n",
    "        (\"human\", \"question: {question}\\n\\n context: {context} \"),\n",
    "    ]\n",
    ")\n",
    "\n",
    "# Chain\n",
    "rag_chain = prompt | llm | StrOutputParser()"
   ],
   "id": "257c92c8d0092c9b",
   "outputs": [],
   "execution_count": 10
  },
  {
   "metadata": {
    "ExecuteTime": {
     "end_time": "2024-07-31T04:37:52.894182Z",
     "start_time": "2024-07-31T04:37:52.891579Z"
    }
   },
   "cell_type": "code",
   "source": [
    "### Hallucination Grader\n",
    "\n",
    "system = \"\"\"You are a grader assessing whether\n",
    "    an answer is grounded in / supported by a set of facts. Give a binary 'yes' or 'no' score to indicate\n",
    "    whether the answer is grounded in / supported by a set of facts. Provide the binary score as a JSON with a\n",
    "    single key 'score' and no preamble or explanation.\"\"\"\n",
    "\n",
    "prompt = ChatPromptTemplate.from_messages(\n",
    "    [\n",
    "        (\"system\", system),\n",
    "        (\"human\", \"documents: {documents}\\n\\n answer: {generation} \"),\n",
    "    ]\n",
    ")\n",
    "\n",
    "hallucination_grader = prompt | llm | JsonOutputParser()"
   ],
   "id": "aacb4904a2d489aa",
   "outputs": [],
   "execution_count": 11
  },
  {
   "metadata": {
    "ExecuteTime": {
     "end_time": "2024-07-31T04:38:02.671031Z",
     "start_time": "2024-07-31T04:38:02.667788Z"
    }
   },
   "cell_type": "code",
   "source": [
    "### Answer Grader\n",
    "\n",
    "\n",
    "prompt = ChatPromptTemplate.from_messages(\n",
    "    [\n",
    "        (\"system\", system),\n",
    "        (\"human\", \"{question}\"),\n",
    "    ]\n",
    ")\n",
    "\n",
    "\n",
    "# Prompt\n",
    "system = \"\"\"You are a grader assessing whether an\n",
    "    answer is useful to resolve a question. Give a binary score 'yes' or 'no' to indicate whether the answer is\n",
    "    useful to resolve a question. Provide the binary score as a JSON with a single key 'score' and no preamble or explanation.\"\"\"\n",
    "\n",
    "prompt = ChatPromptTemplate.from_messages(\n",
    "    [\n",
    "        (\"system\", system),\n",
    "        (\"human\", \"question: {question}\\n\\n answer: {generation} \"),\n",
    "    ]\n",
    ")\n",
    "\n",
    "answer_grader = prompt | llm | JsonOutputParser()"
   ],
   "id": "d4cf6240fb295965",
   "outputs": [],
   "execution_count": 12
  },
  {
   "metadata": {
    "ExecuteTime": {
     "end_time": "2024-07-31T04:38:49.139998Z",
     "start_time": "2024-07-31T04:38:49.101417Z"
    }
   },
   "cell_type": "code",
   "source": [
    "from pprint import pprint\n",
    "from typing import List\n",
    "\n",
    "from langchain_core.documents import Document\n",
    "from typing_extensions import TypedDict\n",
    "\n",
    "from langgraph.graph import END, StateGraph\n",
    "\n",
    "### State\n",
    "\n",
    "\n",
    "class GraphState(TypedDict):\n",
    "    \"\"\"\n",
    "    Represents the state of our graph.\n",
    "\n",
    "    Attributes:\n",
    "        question: question\n",
    "        generation: LLM generation\n",
    "        web_search: whether to add search\n",
    "        documents: list of documents\n",
    "    \"\"\"\n",
    "\n",
    "    question: str\n",
    "    generation: str\n",
    "    web_search: str\n",
    "    documents: List[str]\n",
    "\n",
    "\n",
    "### Nodes\n",
    "\n",
    "def retrieve(state):\n",
    "    \"\"\"\n",
    "    Retrieve documents from vectorstore\n",
    "\n",
    "    Args:\n",
    "        state (dict): The current graph state\n",
    "\n",
    "    Returns:\n",
    "        state (dict): New key added to state, documents, that contains retrieved documents\n",
    "    \"\"\"\n",
    "    print(\"---RETRIEVE---\")\n",
    "    question = state[\"question\"]\n",
    "\n",
    "    # Retrieval\n",
    "    documents = retriever.invoke(question)\n",
    "    print(question)\n",
    "    print(documents)\n",
    "    return {\"documents\": documents, \"question\": question}\n",
    "\n",
    "\n",
    "def generate(state):\n",
    "    \"\"\"\n",
    "    Generate answer using RAG on retrieved documents\n",
    "\n",
    "    Args:\n",
    "        state (dict): The current graph state\n",
    "\n",
    "    Returns:\n",
    "        state (dict): New key added to state, generation, that contains LLM generation\n",
    "    \"\"\"\n",
    "    print(\"---GENERATE---\")\n",
    "    question = state[\"question\"]\n",
    "    documents = state[\"documents\"]\n",
    "\n",
    "    # RAG generation\n",
    "    generation = rag_chain.invoke({\"context\": documents, \"question\": question})\n",
    "    return {\"documents\": documents, \"question\": question, \"generation\": generation}\n",
    "\n",
    "\n",
    "def grade_documents(state):\n",
    "    \"\"\"\n",
    "    Determines whether the retrieved documents are relevant to the question\n",
    "    If any document is not relevant, we will set a flag to run web search\n",
    "\n",
    "    Args:\n",
    "        state (dict): The current graph state\n",
    "\n",
    "    Returns:\n",
    "        state (dict): Filtered out irrelevant documents and updated web_search state\n",
    "    \"\"\"\n",
    "\n",
    "    print(\"---CHECK DOCUMENT RELEVANCE TO QUESTION---\")\n",
    "    question = state[\"question\"]\n",
    "    documents = state[\"documents\"]\n",
    "\n",
    "    # Score each doc\n",
    "    filtered_docs = []\n",
    "    web_search = \"No\"\n",
    "    for d in documents:\n",
    "        score = retrieval_grader.invoke(\n",
    "            {\"question\": question, \"document\": d.page_content}\n",
    "        )\n",
    "        grade = score[\"score\"]\n",
    "        # Document relevant\n",
    "        if grade.lower() == \"yes\":\n",
    "            print(\"---GRADE: DOCUMENT RELEVANT---\")\n",
    "            filtered_docs.append(d)\n",
    "        # Document not relevant\n",
    "        else:\n",
    "            print(\"---GRADE: DOCUMENT NOT RELEVANT---\")\n",
    "            # We do not include the document in filtered_docs\n",
    "            # We set a flag to indicate that we want to run web search\n",
    "            web_search = \"Yes\"\n",
    "            continue\n",
    "    return {\"documents\": filtered_docs, \"question\": question, \"web_search\": web_search}\n",
    "\n",
    "\n",
    "def web_search(state):\n",
    "    \"\"\"\n",
    "    Web search based based on the question\n",
    "\n",
    "    Args:\n",
    "        state (dict): The current graph state\n",
    "\n",
    "    Returns:\n",
    "        state (dict): Appended web results to documents\n",
    "    \"\"\"\n",
    "\n",
    "    print(\"---WEB SEARCH---\")\n",
    "    question = state[\"question\"]\n",
    "    documents = state[\"documents\"]\n",
    "\n",
    "    # Web search\n",
    "    docs = tavily.search(query=question)['results']\n",
    "#    [{'title': 'Where will Lionel Messi play in 2024? Cities, stadiums Inter Miami ...', 'url': 'https://www.sportingnews.com/us/soccer/news/where-lionel-messi-play-2024-inter-miami-cities-road-schedule/23334c5768cebee9021e71d0', 'content': \"Here is how Inter Miami's road schedule will look for the coming regular season:\\nInter Miami home stadium for 2024 MLS season\\nFor their home matches through the 2024 campaign, Inter Miami will once again play at\\xa0DRV PNK Stadium in Fort Lauderdale, Florida.\\n Cities, stadiums Inter Miami visit on road MLS schedule for new season\\nWith Lionel Messi set to embark on his first full season with Inter Miami, fans across the United States will be clamoring to see when the Argentine superstar will visit their city in 2024.\\n MLS Season Pass is separate from Apple TV+, meaning those with Apple TV+ would still need an MLS Season Pass subscription to access the complete slate of games, while those without Apple TV+ can still sign up for MLS Season Pass without needing a full Apple TV+ subscription.\\n SUBSCRIBE TO MLS SEASON PASS NOW\\nApple TV is the official home of the MLS regular season and playoffs, with every match for every team available to stream around the world with no blackouts. How to watch Inter Miami in 2024 MLS season\\nLast season, Major League Soccer kicked off a 10-year broadcast rights deal with Apple that sees every single match for the next decade streamed exclusively on Apple's streaming platform.\\n\", 'score': 0.98612, 'raw_content': None}, {'title': 'Is Lionel Messi playing today? Status for next Inter Miami game in 2024 ...', 'url': 'https://www.sportingnews.com/us/soccer/news/lionel-messi-playing-today-inter-miami-game-2024/129c2c378fee4d1f0102aa9d', 'content': '* Lionel Messi did not participate. Inter Miami schedule for Leagues Cup. The 2024 Leagues Cup is scheduled to begin on July 26, running for a month while the MLS season pauses play.. The final ...', 'score': 0.98209, 'raw_content': None}, {'title': 'Lionel Messi joins Inter Miami: Schedule, MLS tickets to see him play', 'url': 'https://www.usatoday.com/story/sports/mls/2023/06/07/lionel-messi-inter-miami-schedule-tickets/70299298007/', 'content': 'Lionel Messi joins Inter Miami: Full schedule, MLS tickets to see Messi play in US\\nLionel Messi\\xa0is taking his talents to South Beach.\\nMessi,\\xa0the 2022 World Cup champion, announced on Wednesday that he will join Major League Soccer\\'s Inter Miami CF, a pro soccer club owned by David Beckham, after exiting Ligue 1\\'s Paris Saint-Germain following two seasons.\\n Tickets to Inter Miami\\'s game on June 10 range from $40-$55, but the price tag to see Inter Miami play LigaMX\\'s Cruz Azul on July 21 soared to $495 in anticipation of what\\'s expected to be Messi\\'s first home game, TicketSmarter CEO Jeff Goodman told USA TODAY Sports.\\n Each team will play a minimum of two games in the group stage, similar to the World Cup format, with the possibility of more games if the team advances to the knockout rounds.\\n \"\\nAccording to Goodman, nearly 2,000 Inter Miami tickets sold on TicketSmarter the day of Messi\\'s announcement Wednesday, compared to under 50 tickets being sold on the platform over the weekend.\\n If the Barcelona thing didn\\'t work out, I wanted to leave Europe, get out of the spotlight and think more of my family.', 'score': 0.97895, 'raw_content': None}, {'title': \"Lionel Messi's 2023 Inter Miami schedule: Every match in MLS, Leagues ...\", 'url': 'https://www.sportingnews.com/us/soccer/news/lionel-messi-2023-inter-miami-schedule/d3buao2mhfp7uculkdz3nsc4', 'content': \"MORE:\\xa0Trophies that Lionel Messi can win with Inter Miami in USA\\nLeagues Cup\\nIn his first three matches with Inter Miami, Lionel Messi lifted the club into the Leagues Cup Round of 16 thanks to three straight home wins that he helped orchestrate.\\n Edition\\nLionel Messi's 2023 Inter Miami schedule: Every match in MLS, Leagues Cup and U.S. Open Cup\\nLionel Messi is taking North America by storm after scoring in his first three matches for his new club Inter Miami CF.\\n MORE: Messi's Miami apartment | Messi's wife & family | Messi's net worth\\nLionel Messi, Inter Miami 2023 schedule\\nBelow are the remaining games for Inter Miami that Messi will be a part of. MLS\\nAfter the Leagues Cup is out of the way, Inter Miami will have 12 MLS matchdays left in a bid to reach the MLS Cup playoffs.\\n Inter Miami can still make MLS playoffs\\xa0with Lionel Messi\\nU.S. Open Cup\\nInter Miami reached the semifinal of the competition before Messi and friends joined.\", 'score': 0.97298, 'raw_content': None}, {'title': 'Messi, Argentina to play in Chicago, DC before Copa America: More info', 'url': 'https://www.usatoday.com/story/sports/soccer/2024/05/20/messi-argentina-to-play-in-chicago-dc-before-copa-america-more-info/73770204007/', 'content': \"1:00. World Cup champion Lionel Messi will participate in two Argentina friendlies early next month before Copa América begins June 20. Messi was officially named to Argentina's 29-man roster ...\", 'score': 0.97096, 'raw_content': None}]\n",
    "#\n",
    "#\n",
    "\n",
    "    web_results = \"\\n\".join([d[\"content\"] for d in docs])\n",
    "    web_results = Document(page_content=web_results)\n",
    "    if documents is not None:\n",
    "        documents.append(web_results)\n",
    "    else:\n",
    "        documents = [web_results]\n",
    "    return {\"documents\": documents, \"question\": question}\n",
    "\n",
    "\n",
    "### Edges\n",
    "\n",
    "\n",
    "def route_question(state):\n",
    "    \"\"\"\n",
    "    Route question to web search or RAG.\n",
    "\n",
    "    Args:\n",
    "        state (dict): The current graph state\n",
    "\n",
    "    Returns:\n",
    "        str: Next node to call\n",
    "    \"\"\"\n",
    "\n",
    "    print(\"---ROUTE QUESTION---\")\n",
    "    question = state[\"question\"]\n",
    "    print(question)\n",
    "    source = question_router.invoke({\"question\": question})\n",
    "    print(source)\n",
    "    print(source[\"datasource\"])\n",
    "    if source[\"datasource\"] == \"web_search\":\n",
    "        print(\"---ROUTE QUESTION TO WEB SEARCH---\")\n",
    "        return \"websearch\"\n",
    "    elif source[\"datasource\"] == \"vectorstore\":\n",
    "        print(\"---ROUTE QUESTION TO RAG---\")\n",
    "        return \"vectorstore\"\n",
    "\n",
    "\n",
    "def decide_to_generate(state):\n",
    "    \"\"\"\n",
    "    Determines whether to generate an answer, or add web search\n",
    "\n",
    "    Args:\n",
    "        state (dict): The current graph state\n",
    "\n",
    "    Returns:\n",
    "        str: Binary decision for next node to call\n",
    "    \"\"\"\n",
    "\n",
    "    print(\"---ASSESS GRADED DOCUMENTS---\")\n",
    "    state[\"question\"]\n",
    "    web_search = state[\"web_search\"]\n",
    "    state[\"documents\"]\n",
    "\n",
    "    if web_search == \"Yes\":\n",
    "        # All documents have been filtered check_relevance\n",
    "        # We will re-generate a new query\n",
    "        print(\n",
    "            \"---DECISION: ALL DOCUMENTS ARE NOT RELEVANT TO QUESTION, INCLUDE WEB SEARCH---\"\n",
    "        )\n",
    "        return \"websearch\"\n",
    "    else:\n",
    "        # We have relevant documents, so generate answer\n",
    "        print(\"---DECISION: GENERATE---\")\n",
    "        return \"generate\"\n",
    "\n",
    "\n",
    "### Conditional edge\n",
    "\n",
    "\n",
    "def grade_generation_v_documents_and_question(state):\n",
    "    \"\"\"\n",
    "    Determines whether the generation is grounded in the document and answers question.\n",
    "\n",
    "    Args:\n",
    "        state (dict): The current graph state\n",
    "\n",
    "    Returns:\n",
    "        str: Decision for next node to call\n",
    "    \"\"\"\n",
    "\n",
    "    print(\"---CHECK HALLUCINATIONS---\")\n",
    "    question = state[\"question\"]\n",
    "    documents = state[\"documents\"]\n",
    "    generation = state[\"generation\"]\n",
    "\n",
    "    score = hallucination_grader.invoke(\n",
    "        {\"documents\": documents, \"generation\": generation}\n",
    "    )\n",
    "    grade = score[\"score\"]\n",
    "\n",
    "    # Check hallucination\n",
    "    if grade == \"yes\":\n",
    "        print(\"---DECISION: GENERATION IS GROUNDED IN DOCUMENTS---\")\n",
    "        # Check question-answering\n",
    "        print(\"---GRADE GENERATION vs QUESTION---\")\n",
    "        score = answer_grader.invoke({\"question\": question, \"generation\": generation})\n",
    "        grade = score[\"score\"]\n",
    "        if grade == \"yes\":\n",
    "            print(\"---DECISION: GENERATION ADDRESSES QUESTION---\")\n",
    "            return \"useful\"\n",
    "        else:\n",
    "            print(\"---DECISION: GENERATION DOES NOT ADDRESS QUESTION---\")\n",
    "            return \"not useful\"\n",
    "    else:\n",
    "        pprint(\"---DECISION: GENERATION IS NOT GROUNDED IN DOCUMENTS, RE-TRY---\")\n",
    "        return \"not supported\"\n",
    "\n",
    "\n",
    "workflow = StateGraph(GraphState)\n",
    "\n",
    "# Define the nodes\n",
    "workflow.add_node(\"websearch\", web_search)  # web search\n",
    "workflow.add_node(\"retrieve\", retrieve)  # retrieve\n",
    "workflow.add_node(\"grade_documents\", grade_documents)  # grade documents\n",
    "workflow.add_node(\"generate\", generate)  # generatae"
   ],
   "id": "fbd54f2474d4e0bc",
   "outputs": [],
   "execution_count": 13
  },
  {
   "metadata": {
    "ExecuteTime": {
     "end_time": "2024-07-31T04:39:39.563404Z",
     "start_time": "2024-07-31T04:39:39.560673Z"
    }
   },
   "cell_type": "code",
   "source": [
    "# Build graph\n",
    "workflow.set_conditional_entry_point(\n",
    "    route_question,\n",
    "    {\n",
    "        \"websearch\": \"websearch\",\n",
    "        \"vectorstore\": \"retrieve\",\n",
    "    },\n",
    ")\n",
    "\n",
    "workflow.add_edge(\"retrieve\", \"grade_documents\")\n",
    "workflow.add_conditional_edges(\n",
    "    \"grade_documents\",\n",
    "    decide_to_generate,\n",
    "    {\n",
    "        \"websearch\": \"websearch\",\n",
    "        \"generate\": \"generate\",\n",
    "    },\n",
    ")\n",
    "workflow.add_edge(\"websearch\", \"generate\")\n",
    "workflow.add_conditional_edges(\n",
    "    \"generate\",\n",
    "    grade_generation_v_documents_and_question,\n",
    "    {\n",
    "        \"not supported\": \"generate\",\n",
    "        \"useful\": END,\n",
    "        \"not useful\": \"websearch\",\n",
    "    },\n",
    ")"
   ],
   "id": "f2d70230f1168c87",
   "outputs": [],
   "execution_count": 14
  },
  {
   "metadata": {
    "ExecuteTime": {
     "end_time": "2024-07-31T04:42:29.444280Z",
     "start_time": "2024-07-31T04:42:28.928371Z"
    }
   },
   "cell_type": "code",
   "source": [
    "from IPython.display import Image, display\n",
    "app = workflow.compile()\n",
    "display(Image(app.get_graph().draw_mermaid_png()))"
   ],
   "id": "6b99efcdb1418ece",
   "outputs": [
    {
     "data": {
      "image/jpeg": "[encoded data removed]",
      "text/plain": [
       "<IPython.core.display.Image object>"
      ]
     },
     "metadata": {},
     "output_type": "display_data"
    }
   ],
   "execution_count": 19
  },
  {
   "metadata": {
    "ExecuteTime": {
     "end_time": "2024-07-31T04:49:21.616886Z",
     "start_time": "2024-07-31T04:49:16.779085Z"
    }
   },
   "cell_type": "code",
   "source": [
    "inputs = {\"question\": \"What is prompt?\"}\n",
    "for output in app.stream(inputs):\n",
    "    for key, value in output.items():\n",
    "        pprint(f\"Finished running: {key}:\")\n",
    "        if key == \"generate\":\n",
    "            pprint(value[\"generation\"])\n",
    "        else:\n",
    "            pprint(value[\"documents\"][0].page_content)"
   ],
   "id": "ae399b270abf0f8e",
   "outputs": [
    {
     "name": "stdout",
     "output_type": "stream",
     "text": [
      "---ROUTE QUESTION---\n",
      "What is prompt?\n",
      "{'datasource': 'web_search'}\n",
      "web_search\n",
      "---ROUTE QUESTION TO WEB SEARCH---\n",
      "---WEB SEARCH---\n",
      "'Finished running: websearch:'\n",
      "('British Dictionary definitions for prompt\\n'\n",
      " '/ (prɒmpt) /\\n'\n",
      " 'performed or executed without delay\\n'\n",
      " 'quick or ready to act or respond\\n'\n",
      " 'informal punctually\\n'\n",
      " '(tr) to urge (someone to do something)\\n'\n",
      " 'to remind (an actor, singer, etc) of lines forgotten during a performance\\n'\n",
      " '(tr) to refresh the memory of\\n'\n",
      " '(tr) to give rise to by suggestion: his affairs will prompt discussion\\n'\n",
      " 'commerce\\n'\n",
      " 'the time limit allowed for payment of the debt incurred by purchasing goods '\n",
      " 'or services on credit\\n'\n",
      " 'the contract specifying this time limit\\n'\n",
      " 'Also called: prompt note a memorandum sent to a purchaser to remind him of '\n",
      " 'the time limit and the sum due\\n'\n",
      " 'the act of prompting\\n'\n",
      " 'anything that serves to remind\\n'\n",
      " 'an aid to the operator of a computer in the form of a question or statement '\n",
      " 'that appears on the screen showing that the equipment is ready to proceed '\n",
      " 'and indicating the options available\\n'\n",
      " 'Origin of prompt\\n'\n",
      " 'Derived forms of prompt\\n'\n",
      " 'Collins English Dictionary - Complete & Unabridged 2012 Digital Edition\\n'\n",
      " '© William Collins Sons & Co. Ltd. 1979, 1986 © HarperCollins\\n'\n",
      " 'Publishers 1998, 2000, 2003, 2005, 2006, 2007, 2009, 2012\\n'\n",
      " 'Browse\\n'\n",
      " 'Follow us\\n'\n",
      " 'Get the Word of the Day every day!\\n'\n",
      " ' Idioms about prompt\\n'\n",
      " 'take a prompt,\\n'\n",
      " '(in acting) to move or speak in response to a cue.\\n'\n",
      " 'Origin of prompt\\n'\n",
      " 'word story For prompt\\n'\n",
      " 'Other words for prompt\\n'\n",
      " 'Other words from prompt\\n'\n",
      " 'Words Nearby prompt\\n'\n",
      " 'Dictionary.com Unabridged\\n'\n",
      " 'Based on the Random House Unabridged Dictionary, © Random House, Inc. 2023\\n'\n",
      " 'How to use prompt in a sentence\\n'\n",
      " 'That prompted grumbling from industry competitors, but Trek’s claims went '\n",
      " 'largely unexamined, and the controversy faded.\\n'\n",
      " ' (of a computer system) to send a message or symbol to (a user) requesting '\n",
      " 'information or instructions, usually by displaying the message or symbol on '\n",
      " 'a screen: Once the home page has loaded, the computer will prompt you to log '\n",
      " 'in to your account.\\n'\n",
      " 'Computers, Digital Technology. to move or induce to action: What prompted '\n",
      " 'you to say that?\\n'\n",
      " 'to occasion or incite; inspire: What prompted his resignation?\\n'\n",
      " \"to assist (a person speaking) by suggesting something to be said: It's \"\n",
      " 'obvious that this witness has been prompted into giving false testimony.\\n'\n",
      " ' They are often used as a call-to-action as they might prompt a viewer to '\n",
      " 'read or learn more about a topic by clicking on the internal link, or else '\n",
      " 'ask a viewer to contact you or schedule a visit.\\n'\n",
      " '\\n'\n",
      " 'Prompt definition: Being on time; punctual. To remind (a person) of '\n",
      " 'something he or she has forgotten; specif., to help (an actor, etc. who has '\n",
      " 'forgotten a line) with a cue.\\n'\n",
      " 'PROMPT definition: 1. to cause something: 2. to cause someone to do '\n",
      " 'something: 3. to help someone, often an actor…. Learn more.\\n'\n",
      " '11 meanings: 1. performed or executed without delay 2. quick or ready to act '\n",
      " 'or respond 3. informal punctually 4. to urge.... Click for more '\n",
      " 'definitions.\\n'\n",
      " 'Prompt action was required as the fire spread. Prompt payment of the invoice '\n",
      " 'would be appreciated. Join us. Join our community to access the latest '\n",
      " 'language learning and assessment tips from Oxford University Press! [not '\n",
      " 'before noun] (of a person) acting without delay; arriving at the right time '\n",
      " 'synonym punctual.')\n",
      "---GENERATE---\n",
      "---CHECK HALLUCINATIONS---\n",
      "---DECISION: GENERATION IS GROUNDED IN DOCUMENTS---\n",
      "---GRADE GENERATION vs QUESTION---\n",
      "---DECISION: GENERATION ADDRESSES QUESTION---\n",
      "'Finished running: generate:'\n",
      "('A prompt is something that causes or encourages action, often used to remind '\n",
      " 'someone of something forgotten. In computing, it refers to a message or '\n",
      " 'symbol displayed on a screen that requests information or instructions from '\n",
      " 'the user. Additionally, it can describe being quick to act or respond, as '\n",
      " 'well as being punctual.')\n"
     ]
    }
   ],
   "execution_count": 24
  },
  {
   "metadata": {
    "ExecuteTime": {
     "end_time": "2024-07-31T04:52:22.276144Z",
     "start_time": "2024-07-31T04:52:19.868188Z"
    }
   },
   "cell_type": "code",
   "source": "%pip install gpt4all",
   "id": "dc1c2a8913c95686",
   "outputs": [
    {
     "name": "stdout",
     "output_type": "stream",
     "text": [
      "Collecting gpt4all\r\n",
      "  Downloading gpt4all-2.7.0-py3-none-macosx_10_15_universal2.whl (7.6 MB)\r\n",
      "\u001B[K     |████████████████████████████████| 7.6 MB 5.5 MB/s eta 0:00:01\r\n",
      "\u001B[?25hRequirement already satisfied: typing-extensions>=4.3.0 in /Users/ray/.pyenv/versions/3.10.0/lib/python3.10/site-packages (from gpt4all) (4.11.0)\r\n",
      "Requirement already satisfied: requests in /Users/ray/.pyenv/versions/3.10.0/lib/python3.10/site-packages (from gpt4all) (2.32.3)\r\n",
      "Requirement already satisfied: tqdm in /Users/ray/.pyenv/versions/3.10.0/lib/python3.10/site-packages (from gpt4all) (4.66.1)\r\n",
      "Requirement already satisfied: idna<4,>=2.5 in /Users/ray/.pyenv/versions/3.10.0/lib/python3.10/site-packages (from requests->gpt4all) (3.7)\r\n",
      "Requirement already satisfied: certifi>=2017.4.17 in /Users/ray/.pyenv/versions/3.10.0/lib/python3.10/site-packages (from requests->gpt4all) (2024.2.2)\r\n",
      "Requirement already satisfied: charset-normalizer<4,>=2 in /Users/ray/.pyenv/versions/3.10.0/lib/python3.10/site-packages (from requests->gpt4all) (3.3.2)\r\n",
      "Requirement already satisfied: urllib3<3,>=1.21.1 in /Users/ray/.pyenv/versions/3.10.0/lib/python3.10/site-packages (from requests->gpt4all) (2.2.1)\r\n",
      "Installing collected packages: gpt4all\r\n",
      "Successfully installed gpt4all-2.7.0\r\n",
      "\u001B[33mWARNING: You are using pip version 21.2.3; however, version 24.2 is available.\r\n",
      "You should consider upgrading via the '/Users/ray/.pyenv/versions/3.10.0/bin/python3 -m pip install --upgrade pip' command.\u001B[0m\r\n",
      "Note: you may need to restart the kernel to use updated packages.\n"
     ]
    }
   ],
   "execution_count": 25
  },
  {
   "metadata": {
    "ExecuteTime": {
     "end_time": "2024-07-31T05:01:11.894919Z",
     "start_time": "2024-07-31T05:01:11.881769Z"
    }
   },
   "cell_type": "code",
   "source": [
    "from langchain_community.embeddings import GPT4AllEmbeddings\n",
    "\n",
    "gpt4all_embd = GPT4AllEmbeddings()\n",
    "query_result = gpt4all_embd.embed_query(\"This is test doc\")\n",
    "print(query_result)"
   ],
   "id": "9c7f83931effb010",
   "outputs": [
    {
     "ename": "ValidationError",
     "evalue": "1 validation error for GPT4AllEmbeddings\n__root__\n  gpt4all.gpt4all.Embed4All() argument after ** must be a mapping, not NoneType (type=type_error)",
     "output_type": "error",
     "traceback": [
      "\u001B[0;31m---------------------------------------------------------------------------\u001B[0m",
      "\u001B[0;31mValidationError\u001B[0m                           Traceback (most recent call last)",
      "Cell \u001B[0;32mIn[28], line 3\u001B[0m\n\u001B[1;32m      1\u001B[0m \u001B[38;5;28;01mfrom\u001B[39;00m \u001B[38;5;21;01mlangchain_community\u001B[39;00m\u001B[38;5;21;01m.\u001B[39;00m\u001B[38;5;21;01membeddings\u001B[39;00m \u001B[38;5;28;01mimport\u001B[39;00m GPT4AllEmbeddings\n\u001B[0;32m----> 3\u001B[0m gpt4all_embd \u001B[38;5;241m=\u001B[39m \u001B[43mGPT4AllEmbeddings\u001B[49m\u001B[43m(\u001B[49m\u001B[43m)\u001B[49m\n\u001B[1;32m      4\u001B[0m query_result \u001B[38;5;241m=\u001B[39m gpt4all_embd\u001B[38;5;241m.\u001B[39membed_query(\u001B[38;5;124m\"\u001B[39m\u001B[38;5;124mThis is test doc\u001B[39m\u001B[38;5;124m\"\u001B[39m)\n\u001B[1;32m      5\u001B[0m \u001B[38;5;28mprint\u001B[39m(query_result)\n",
      "File \u001B[0;32m~/.pyenv/versions/3.10.0/lib/python3.10/site-packages/pydantic/v1/main.py:341\u001B[0m, in \u001B[0;36mBaseModel.__init__\u001B[0;34m(__pydantic_self__, **data)\u001B[0m\n\u001B[1;32m    339\u001B[0m values, fields_set, validation_error \u001B[38;5;241m=\u001B[39m validate_model(__pydantic_self__\u001B[38;5;241m.\u001B[39m\u001B[38;5;18m__class__\u001B[39m, data)\n\u001B[1;32m    340\u001B[0m \u001B[38;5;28;01mif\u001B[39;00m validation_error:\n\u001B[0;32m--> 341\u001B[0m     \u001B[38;5;28;01mraise\u001B[39;00m validation_error\n\u001B[1;32m    342\u001B[0m \u001B[38;5;28;01mtry\u001B[39;00m:\n\u001B[1;32m    343\u001B[0m     object_setattr(__pydantic_self__, \u001B[38;5;124m'\u001B[39m\u001B[38;5;124m__dict__\u001B[39m\u001B[38;5;124m'\u001B[39m, values)\n",
      "\u001B[0;31mValidationError\u001B[0m: 1 validation error for GPT4AllEmbeddings\n__root__\n  gpt4all.gpt4all.Embed4All() argument after ** must be a mapping, not NoneType (type=type_error)"
     ]
    }
   ],
   "execution_count": 28
  },
  {
   "metadata": {},
   "cell_type": "code",
   "outputs": [],
   "execution_count": null,
   "source": "",
   "id": "c3daec7adab17caa"
  }
 ],
 "metadata": {
  "kernelspec": {
   "display_name": "Python 3",
   "language": "python",
   "name": "python3"
  },
  "language_info": {
   "codemirror_mode": {
    "name": "ipython",
    "version": 2
   },
   "file_extension": ".py",
   "mimetype": "text/x-python",
   "name": "python",
   "nbconvert_exporter": "python",
   "pygments_lexer": "ipython2",
   "version": "2.7.6"
  }
 },
 "nbformat": 4,
 "nbformat_minor": 5
}
